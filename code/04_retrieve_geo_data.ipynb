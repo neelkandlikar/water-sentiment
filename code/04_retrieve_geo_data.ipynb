{
 "cells": [
  {
   "cell_type": "markdown",
   "metadata": {},
   "source": [
    "### imports"
   ]
  },
  {
   "cell_type": "code",
   "execution_count": 2,
   "metadata": {},
   "outputs": [
    {
     "name": "stderr",
     "output_type": "stream",
     "text": [
      "[nltk_data] Downloading package maxent_ne_chunker to\n",
      "[nltk_data]     /Users/neel/nltk_data...\n",
      "[nltk_data]   Package maxent_ne_chunker is already up-to-date!\n",
      "[nltk_data] Downloading package words to /Users/neel/nltk_data...\n",
      "[nltk_data]   Package words is already up-to-date!\n",
      "[nltk_data] Downloading package treebank to /Users/neel/nltk_data...\n",
      "[nltk_data]   Package treebank is already up-to-date!\n",
      "[nltk_data] Downloading package maxent_treebank_pos_tagger to\n",
      "[nltk_data]     /Users/neel/nltk_data...\n",
      "[nltk_data]   Package maxent_treebank_pos_tagger is already up-to-\n",
      "[nltk_data]       date!\n",
      "[nltk_data] Downloading package punkt to /Users/neel/nltk_data...\n",
      "[nltk_data]   Package punkt is already up-to-date!\n",
      "[nltk_data] Downloading package averaged_perceptron_tagger to\n",
      "[nltk_data]     /Users/neel/nltk_data...\n",
      "[nltk_data]   Package averaged_perceptron_tagger is already up-to-\n",
      "[nltk_data]       date!\n"
     ]
    }
   ],
   "source": [
    "import pandas as pd\n",
    "import re\n",
    "import csv\n",
    "from IPython.display import display, clear_output\n",
    "import nltk \n",
    "from nltk import word_tokenize\n",
    "from nltk.corpus import stopwords\n",
    "from nltk.tokenize.treebank import TreebankWordDetokenizer\n",
    "import string\n",
    "from string import capwords\n",
    "from sklearn.feature_extraction.text import CountVectorizer\n",
    "import geograpy3\n",
    "from cliff.api import Cliff\n",
    "import json "
   ]
  },
  {
   "cell_type": "markdown",
   "metadata": {},
   "source": [
    "### loops through abstracts and matches checks if words are a country or a state name according to a csv file containing country and state names"
   ]
  },
  {
   "cell_type": "code",
   "execution_count": 3,
   "metadata": {},
   "outputs": [],
   "source": [
    "def match_countries(text):\n",
    "    countries_in_abstract = []\n",
    "    for word in (str(text)).split():\n",
    "        if word in countries_list and word not in countries_in_abstract:\n",
    "            countries_in_abstract.append(word)\n",
    "#         if word in abbr_country_dict and abbr_country_dict[word] not in countries_in_abstract:\n",
    "#             countries_in_abstract.append(abbr_country_dict[word])\n",
    "        if word in province_to_country and province_to_country[word] not in countries_in_abstract:\n",
    "            countries_in_abstract.append(province_to_country[word])\n",
    "        if word in demonym_dict and demonym_dict[word] not in countries_in_abstract:\n",
    "            countries_in_abstract.append(demonym_dict[word])\n",
    "    return countries_in_abstract\n"
   ]
  },
  {
   "cell_type": "markdown",
   "metadata": {},
   "source": [
    "### uses geograpy3 API to attempt to assign countries to a text input"
   ]
  },
  {
   "cell_type": "code",
   "execution_count": 4,
   "metadata": {},
   "outputs": [],
   "source": [
    "def geograpy_countries(input):\n",
    "    places = geograpy3.get_place_context(text = input)\n",
    "    return places.countries"
   ]
  },
  {
   "cell_type": "markdown",
   "metadata": {},
   "source": [
    "### fills all the \"countries\" column for abstracts that were not assigned a column with \"NA\" values"
   ]
  },
  {
   "cell_type": "code",
   "execution_count": 5,
   "metadata": {},
   "outputs": [],
   "source": [
    "def fill_na(array):\n",
    "    if(len(array) < 1):\n",
    "        return \"NA\"\n",
    "    else:\n",
    "        return array"
   ]
  },
  {
   "cell_type": "code",
   "execution_count": 6,
   "metadata": {},
   "outputs": [
    {
     "data": {
      "text/html": [
       "<div>\n",
       "<style scoped>\n",
       "    .dataframe tbody tr th:only-of-type {\n",
       "        vertical-align: middle;\n",
       "    }\n",
       "\n",
       "    .dataframe tbody tr th {\n",
       "        vertical-align: top;\n",
       "    }\n",
       "\n",
       "    .dataframe thead th {\n",
       "        text-align: right;\n",
       "    }\n",
       "</style>\n",
       "<table border=\"1\" class=\"dataframe\">\n",
       "  <thead>\n",
       "    <tr style=\"text-align: right;\">\n",
       "      <th></th>\n",
       "      <th>original_text</th>\n",
       "      <th>text</th>\n",
       "      <th>tokenized_text</th>\n",
       "      <th>no_stopwords_tokenized_text</th>\n",
       "      <th>no_stopwords_text</th>\n",
       "      <th>tdm</th>\n",
       "    </tr>\n",
       "  </thead>\n",
       "  <tbody>\n",
       "    <tr>\n",
       "      <td>65447</td>\n",
       "      <td>Conceptual uncertainties in solubility calcula...</td>\n",
       "      <td>conceptual uncertainties in solubility calcula...</td>\n",
       "      <td>['conceptual', 'uncertainties', 'in', 'solubil...</td>\n",
       "      <td>['conceptual', 'uncertainties', 'solubility', ...</td>\n",
       "      <td>conceptual uncertainties solubility calculatio...</td>\n",
       "      <td>account  actinide  also  analysis  answers ...</td>\n",
       "    </tr>\n",
       "    <tr>\n",
       "      <td>65448</td>\n",
       "      <td>From political to environmental conflict in th...</td>\n",
       "      <td>from political to environmental conflict in th...</td>\n",
       "      <td>['from', 'political', 'to', 'environmental', '...</td>\n",
       "      <td>['political', 'environmental', 'conflict', 'de...</td>\n",
       "      <td>political environmental conflict development t...</td>\n",
       "      <td>achieve  activity  along  among  aquifers  ...</td>\n",
       "    </tr>\n",
       "    <tr>\n",
       "      <td>65449</td>\n",
       "      <td>Fissure behavior in the chihuahuan desert and ...</td>\n",
       "      <td>fissure behavior in the chihuahuan desert and ...</td>\n",
       "      <td>['fissure', 'behavior', 'in', 'the', 'chihuahu...</td>\n",
       "      <td>['fissure', 'behavior', 'chihuahuan', 'desert'...</td>\n",
       "      <td>fissure behavior chihuahuan desert depth estim...</td>\n",
       "      <td>aquifers  authors  base  become  behavior  ...</td>\n",
       "    </tr>\n",
       "    <tr>\n",
       "      <td>65450</td>\n",
       "      <td>Integrated study of the Judy Field Block a  an...</td>\n",
       "      <td>integrated study of the judy field block a  an...</td>\n",
       "      <td>['integrated', 'study', 'of', 'the', 'judy', '...</td>\n",
       "      <td>['integrated', 'study', 'judy', 'field', 'bloc...</td>\n",
       "      <td>integrated study judy field block overpressure...</td>\n",
       "      <td>accumulation  across  ago  allows  almost  ...</td>\n",
       "    </tr>\n",
       "    <tr>\n",
       "      <td>65451</td>\n",
       "      <td>Land farm design and management in Bolivia A c...</td>\n",
       "      <td>land farm design and management in bolivia a c...</td>\n",
       "      <td>['land', 'farm', 'design', 'and', 'management'...</td>\n",
       "      <td>['land', 'farm', 'design', 'management', 'boli...</td>\n",
       "      <td>land farm design management bolivia casestudya...</td>\n",
       "      <td>abstract  acceptable  accomplished  additio...</td>\n",
       "    </tr>\n",
       "  </tbody>\n",
       "</table>\n",
       "</div>"
      ],
      "text/plain": [
       "                                           original_text  \\\n",
       "65447  Conceptual uncertainties in solubility calcula...   \n",
       "65448  From political to environmental conflict in th...   \n",
       "65449  Fissure behavior in the chihuahuan desert and ...   \n",
       "65450  Integrated study of the Judy Field Block a  an...   \n",
       "65451  Land farm design and management in Bolivia A c...   \n",
       "\n",
       "                                                    text  \\\n",
       "65447  conceptual uncertainties in solubility calcula...   \n",
       "65448  from political to environmental conflict in th...   \n",
       "65449  fissure behavior in the chihuahuan desert and ...   \n",
       "65450  integrated study of the judy field block a  an...   \n",
       "65451  land farm design and management in bolivia a c...   \n",
       "\n",
       "                                          tokenized_text  \\\n",
       "65447  ['conceptual', 'uncertainties', 'in', 'solubil...   \n",
       "65448  ['from', 'political', 'to', 'environmental', '...   \n",
       "65449  ['fissure', 'behavior', 'in', 'the', 'chihuahu...   \n",
       "65450  ['integrated', 'study', 'of', 'the', 'judy', '...   \n",
       "65451  ['land', 'farm', 'design', 'and', 'management'...   \n",
       "\n",
       "                             no_stopwords_tokenized_text  \\\n",
       "65447  ['conceptual', 'uncertainties', 'solubility', ...   \n",
       "65448  ['political', 'environmental', 'conflict', 'de...   \n",
       "65449  ['fissure', 'behavior', 'chihuahuan', 'desert'...   \n",
       "65450  ['integrated', 'study', 'judy', 'field', 'bloc...   \n",
       "65451  ['land', 'farm', 'design', 'management', 'boli...   \n",
       "\n",
       "                                       no_stopwords_text  \\\n",
       "65447  conceptual uncertainties solubility calculatio...   \n",
       "65448  political environmental conflict development t...   \n",
       "65449  fissure behavior chihuahuan desert depth estim...   \n",
       "65450  integrated study judy field block overpressure...   \n",
       "65451  land farm design management bolivia casestudya...   \n",
       "\n",
       "                                                     tdm  \n",
       "65447     account  actinide  also  analysis  answers ...  \n",
       "65448     achieve  activity  along  among  aquifers  ...  \n",
       "65449     aquifers  authors  base  become  behavior  ...  \n",
       "65450     accumulation  across  ago  allows  almost  ...  \n",
       "65451     abstract  acceptable  accomplished  additio...  "
      ]
     },
     "metadata": {},
     "output_type": "display_data"
    }
   ],
   "source": [
    "df = pd.read_csv('../results/clean_tokenize_new.csv')\n",
    "pd.set_option('display.max_columns', 999)\n",
    "pd.set_option('display.max_rows', 999)\n",
    "\n",
    "display(df.tail())"
   ]
  },
  {
   "cell_type": "code",
   "execution_count": 7,
   "metadata": {},
   "outputs": [],
   "source": [
    "df = df.dropna(subset=['original_text'])"
   ]
  },
  {
   "cell_type": "code",
   "execution_count": 8,
   "metadata": {},
   "outputs": [
    {
     "data": {
      "text/plain": [
       "65434"
      ]
     },
     "metadata": {},
     "output_type": "display_data"
    }
   ],
   "source": [
    "display(len(df.index))"
   ]
  },
  {
   "cell_type": "code",
   "execution_count": 14,
   "metadata": {},
   "outputs": [
    {
     "data": {
      "text/html": [
       "<div>\n",
       "<style scoped>\n",
       "    .dataframe tbody tr th:only-of-type {\n",
       "        vertical-align: middle;\n",
       "    }\n",
       "\n",
       "    .dataframe tbody tr th {\n",
       "        vertical-align: top;\n",
       "    }\n",
       "\n",
       "    .dataframe thead th {\n",
       "        text-align: right;\n",
       "    }\n",
       "</style>\n",
       "<table border=\"1\" class=\"dataframe\">\n",
       "  <thead>\n",
       "    <tr style=\"text-align: right;\">\n",
       "      <th></th>\n",
       "      <th>original_text</th>\n",
       "      <th>text</th>\n",
       "      <th>tokenized_text</th>\n",
       "      <th>no_stopwords_tokenized_text</th>\n",
       "      <th>no_stopwords_text</th>\n",
       "      <th>tdm</th>\n",
       "    </tr>\n",
       "  </thead>\n",
       "  <tbody>\n",
       "    <tr>\n",
       "      <td>0</td>\n",
       "      <td>FRACTURING AND SUBSIDENCE OF THE LAND SURFACE ...</td>\n",
       "      <td>fracturing and subsidence of the land surface ...</td>\n",
       "      <td>['fracturing', 'and', 'subsidence', 'of', 'the...</td>\n",
       "      <td>['fracturing', 'subsidence', 'land', 'surface'...</td>\n",
       "      <td>fracturing subsidence land surface caused with...</td>\n",
       "      <td>amount  aquifers  area  artesian  bench  bo...</td>\n",
       "    </tr>\n",
       "    <tr>\n",
       "      <td>1</td>\n",
       "      <td>An analysis of instabilities caused by salinit...</td>\n",
       "      <td>an analysis of instabilities caused by salinit...</td>\n",
       "      <td>['an', 'analysis', 'of', 'instabilities', 'cau...</td>\n",
       "      <td>['analysis', 'instabilities', 'caused', 'salin...</td>\n",
       "      <td>analysis instabilities caused salinity gradien...</td>\n",
       "      <td>always  amplitude  analyse  analysis  aquif...</td>\n",
       "    </tr>\n",
       "    <tr>\n",
       "      <td>2</td>\n",
       "      <td>Pollution of the Rhine and water supply DutchA...</td>\n",
       "      <td>pollution of the rhine and water supply dutcha...</td>\n",
       "      <td>['pollution', 'of', 'the', 'rhine', 'and', 'wa...</td>\n",
       "      <td>['pollution', 'rhine', 'water', 'supply', 'dut...</td>\n",
       "      <td>pollution rhine water supply dutcha water supp...</td>\n",
       "      <td>activities  almost  approximately  article ...</td>\n",
       "    </tr>\n",
       "    <tr>\n",
       "      <td>3</td>\n",
       "      <td>DEVELOPMENT AND IN PLACE LEACHING OF MOUNTAIN ...</td>\n",
       "      <td>development and in place leaching of mountain ...</td>\n",
       "      <td>['development', 'and', 'in', 'place', 'leachin...</td>\n",
       "      <td>['development', 'place', 'leaching', 'mountain...</td>\n",
       "      <td>development place leaching mountain city chalc...</td>\n",
       "      <td>aid  analyzed  annualized  approximately  b...</td>\n",
       "    </tr>\n",
       "    <tr>\n",
       "      <td>4</td>\n",
       "      <td>The study of groundwater movement in boreholes...</td>\n",
       "      <td>the study of groundwater movement in boreholes...</td>\n",
       "      <td>['the', 'study', 'of', 'groundwater', 'movemen...</td>\n",
       "      <td>['study', 'groundwater', 'movement', 'borehole...</td>\n",
       "      <td>study groundwater movement boreholes performed...</td>\n",
       "      <td>among  aquifers  authors  avoiding  based  ...</td>\n",
       "    </tr>\n",
       "  </tbody>\n",
       "</table>\n",
       "</div>"
      ],
      "text/plain": [
       "                                       original_text  \\\n",
       "0  FRACTURING AND SUBSIDENCE OF THE LAND SURFACE ...   \n",
       "1  An analysis of instabilities caused by salinit...   \n",
       "2  Pollution of the Rhine and water supply DutchA...   \n",
       "3  DEVELOPMENT AND IN PLACE LEACHING OF MOUNTAIN ...   \n",
       "4  The study of groundwater movement in boreholes...   \n",
       "\n",
       "                                                text  \\\n",
       "0  fracturing and subsidence of the land surface ...   \n",
       "1  an analysis of instabilities caused by salinit...   \n",
       "2  pollution of the rhine and water supply dutcha...   \n",
       "3  development and in place leaching of mountain ...   \n",
       "4  the study of groundwater movement in boreholes...   \n",
       "\n",
       "                                      tokenized_text  \\\n",
       "0  ['fracturing', 'and', 'subsidence', 'of', 'the...   \n",
       "1  ['an', 'analysis', 'of', 'instabilities', 'cau...   \n",
       "2  ['pollution', 'of', 'the', 'rhine', 'and', 'wa...   \n",
       "3  ['development', 'and', 'in', 'place', 'leachin...   \n",
       "4  ['the', 'study', 'of', 'groundwater', 'movemen...   \n",
       "\n",
       "                         no_stopwords_tokenized_text  \\\n",
       "0  ['fracturing', 'subsidence', 'land', 'surface'...   \n",
       "1  ['analysis', 'instabilities', 'caused', 'salin...   \n",
       "2  ['pollution', 'rhine', 'water', 'supply', 'dut...   \n",
       "3  ['development', 'place', 'leaching', 'mountain...   \n",
       "4  ['study', 'groundwater', 'movement', 'borehole...   \n",
       "\n",
       "                                   no_stopwords_text  \\\n",
       "0  fracturing subsidence land surface caused with...   \n",
       "1  analysis instabilities caused salinity gradien...   \n",
       "2  pollution rhine water supply dutcha water supp...   \n",
       "3  development place leaching mountain city chalc...   \n",
       "4  study groundwater movement boreholes performed...   \n",
       "\n",
       "                                                 tdm  \n",
       "0     amount  aquifers  area  artesian  bench  bo...  \n",
       "1     always  amplitude  analyse  analysis  aquif...  \n",
       "2     activities  almost  approximately  article ...  \n",
       "3     aid  analyzed  annualized  approximately  b...  \n",
       "4     among  aquifers  authors  avoiding  based  ...  "
      ]
     },
     "metadata": {},
     "output_type": "display_data"
    }
   ],
   "source": [
    "display(df.head())"
   ]
  },
  {
   "cell_type": "markdown",
   "metadata": {},
   "source": [
    "### matches words in the abstract to countries by searching for country names, province names, and demonyms"
   ]
  },
  {
   "cell_type": "code",
   "execution_count": 15,
   "metadata": {},
   "outputs": [],
   "source": [
    "abbr_country_dict = {}\n",
    "countries_list = []\n",
    "with open(\"../data/iso_list_of_countries.csv\") as countries:\n",
    "    reader = csv.reader(countries, delimiter=',',quotechar= '\"',quoting= csv.QUOTE_MINIMAL)\n",
    "    for row in reader:\n",
    "        name = row[0]\n",
    "        if name == \"name\":\n",
    "            continue\n",
    "        abbr = row[1]\n",
    "        countries_list.append(name.lower())\n",
    "        abbr_country_dict[abbr] = name.lower()"
   ]
  },
  {
   "cell_type": "code",
   "execution_count": 16,
   "metadata": {},
   "outputs": [],
   "source": [
    "demonym_dict = {\"hawaiian\": \"hawaii\", \"alaskan\": \"alaska\", \"indian\": \"india\", \"chinese\": \"china\", \"american\": \"america\", \"russian\": \"russia\", \"indonesian\": \"indonesia\", \"pakistani\": \"pakistan\", \"nigerian\": \"nigeria\"}\n"
   ]
  },
  {
   "cell_type": "code",
   "execution_count": 17,
   "metadata": {},
   "outputs": [],
   "source": [
    "province_to_country = {}\n",
    "with open('../data/provinces.json') as json_file: \n",
    "        provinces = json.load(json_file) \n",
    "for p_dict in provinces:\n",
    "    if \"english\" in p_dict:\n",
    "        province_name = p_dict['english'].lower()\n",
    "    else:\n",
    "        province_name = p_dict['name'].lower()\n",
    "    province_to_country[province_name] = abbr_country_dict[p_dict['country']]\n"
   ]
  },
  {
   "cell_type": "code",
   "execution_count": 18,
   "metadata": {},
   "outputs": [
    {
     "name": "stdout",
     "output_type": "stream",
     "text": [
      "{'alabama': 'united states of america', 'alaska': 'united states of america', 'arizona': 'united states of america', 'arkansas': 'united states of america', 'california': 'united states of america', 'colorado': 'united states of america', 'connecticut': 'united states of america', 'district of columbia': 'united states of america', 'delaware': 'united states of america', 'florida': 'bolivia (plurinational state of)', 'georgia': 'united states of america', 'hawaii': 'united states of america', 'idaho': 'united states of america', 'illinois': 'united states of america', 'indiana': 'united states of america', 'iowa': 'united states of america', 'kansas': 'united states of america', 'kentucky': 'united states of america', 'louisiana': 'united states of america', 'maine': 'united states of america', 'maryland': 'united states of america', 'massachusetts': 'united states of america', 'michigan': 'united states of america', 'minnesota': 'united states of america', 'mississippi': 'united states of america', 'missouri': 'united states of america', 'montana': 'united states of america', 'nebraska': 'united states of america', 'nevada': 'united states of america', 'new hampshire': 'united states of america', 'new jersey': 'united states of america', 'new mexico': 'united states of america', 'new york': 'united states of america', 'north carolina': 'united states of america', 'north dakota': 'united states of america', 'ohio': 'united states of america', 'oklahoma': 'united states of america', 'oregon': 'united states of america', 'pennsylvania': 'united states of america', 'rhode island': 'united states of america', 'south carolina': 'united states of america', 'south dakota': 'united states of america', 'tennessee': 'united states of america', 'texas': 'united states of america', 'utah': 'united states of america', 'vermont': 'united states of america', 'virginia': 'united states of america', 'washington': 'united states of america', 'west virginia': 'united states of america', 'wisconsin': 'united states of america', 'wyoming': 'united states of america', 'american samoa': 'united states of america', 'guam': 'united states of america', 'northern mariana islands': 'united states of america', 'puerto rico': 'united states of america', 'united states minor outlying islands': 'united states of america', 'virgin islands': 'united states of america', 'alberta': 'canada', 'british columbia': 'canada', 'manitoba': 'canada', 'new brunswick': 'canada', 'newfoundland and labrador': 'canada', 'nova scotia': 'canada', 'nunavut': 'canada', 'northwest territories': 'canada', 'ontario': 'canada', 'prince edward island': 'canada', 'quebec': 'canada', 'saskatchewan': 'canada', 'yukon': 'canada', 'ashmore and cartier islands': 'australia', 'australian antarctic territory': 'australia', 'australian capital territory': 'australia', 'christmas island': 'australia', 'cocos islands': 'australia', 'coral sea islands': 'australia', 'heard island and mcdonald islands': 'australia', 'jervis bay territory': 'australia', 'new south wales': 'australia', 'norfolk island': 'australia', 'northern territory': 'australia', 'queensland': 'australia', 'south australia': 'australia', 'tasmania': 'australia', 'victoria': 'australia', 'western australia': 'australia', 'aguascalientes': 'mexico', 'baja california': 'mexico', 'baja california sur': 'mexico', 'campeche': 'mexico', 'chiapas': 'mexico', 'chihuahua': 'mexico', 'coahuila': 'mexico', 'colima': 'mexico', 'federal district': 'mexico', 'durango': 'mexico', 'guanajuato': 'mexico', 'guerrero': 'mexico', 'hidalgo': 'mexico', 'jalisco': 'mexico', 'mexico': 'mexico', 'michoacán': 'mexico', 'morelos': 'mexico', 'nayarit': 'mexico', 'nuevo león': 'mexico', 'oaxaca': 'mexico', 'puebla': 'mexico', 'querétaro': 'mexico', 'quintana roo': 'mexico', 'san luis potosí': 'mexico', 'sinaloa': 'mexico', 'sonora': 'mexico', 'tabasco': 'mexico', 'tamaulipas': 'mexico', 'tlaxcala': 'mexico', 'veracruz': 'mexico', 'yucatán': 'mexico', 'zacatecas': 'mexico', 'chongqing': 'china', 'heilongjiang': 'china', 'jilin': 'china', 'hainan': 'china', 'beijing': 'china', 'liaoning': 'china', 'inner mongolia': 'china', 'xizang': 'china', 'qinghai': 'china', 'ningxia': 'china', 'xinjiang': 'china', 'gansu': 'china', 'hebei': 'china', 'henan': 'china', 'hubei': 'china', 'hunan': 'china', 'shandong': 'china', 'jiangsu': 'china', 'anhui': 'china', 'shanxi': 'china', 'shaanxi': 'china', 'sichuan': 'china', 'yunnan': 'china', 'guizhou': 'china', 'zhejiang': 'china', 'fujian': 'china', 'guangxi': 'china', 'shanghai': 'china', 'tianjin': 'china', 'hongkong': 'china', 'macau': 'china', 'taiwan': 'china', 'jiangxi': 'china', 'guangdong': 'china', 'avon': 'united kingdom of great britain and northern ireland', 'bedfordshire': 'united kingdom of great britain and northern ireland', 'berkshire': 'united kingdom of great britain and northern ireland', 'borders': 'united kingdom of great britain and northern ireland', 'bristol': 'united kingdom of great britain and northern ireland', 'buckinghamshire': 'united kingdom of great britain and northern ireland', 'cambridgeshire': 'united kingdom of great britain and northern ireland', 'channel islands': 'united kingdom of great britain and northern ireland', 'cheshire': 'united kingdom of great britain and northern ireland', 'cleveland': 'united kingdom of great britain and northern ireland', 'cornwall': 'united kingdom of great britain and northern ireland', 'cumbria': 'united kingdom of great britain and northern ireland', 'derbyshire': 'united kingdom of great britain and northern ireland', 'devon': 'united kingdom of great britain and northern ireland', 'dorset': 'united kingdom of great britain and northern ireland', 'durham': 'united kingdom of great britain and northern ireland', 'east riding of yorkshire': 'united kingdom of great britain and northern ireland', 'east sussex': 'united kingdom of great britain and northern ireland', 'essex': 'united kingdom of great britain and northern ireland', 'gloucestershire': 'united kingdom of great britain and northern ireland', 'greater manchester': 'united kingdom of great britain and northern ireland', 'hampshire': 'united kingdom of great britain and northern ireland', 'herefordshire': 'united kingdom of great britain and northern ireland', 'hertfordshire': 'united kingdom of great britain and northern ireland', 'humberside': 'united kingdom of great britain and northern ireland', 'isle of man': 'united kingdom of great britain and northern ireland', 'isle of wight': 'united kingdom of great britain and northern ireland', 'isles of scilly': 'united kingdom of great britain and northern ireland', 'kent': 'united kingdom of great britain and northern ireland', 'lancashire': 'united kingdom of great britain and northern ireland', 'leicestershire': 'united kingdom of great britain and northern ireland', 'lincolnshire': 'united kingdom of great britain and northern ireland', 'london': 'united kingdom of great britain and northern ireland', 'merseyside': 'united kingdom of great britain and northern ireland', 'middlesex': 'united kingdom of great britain and northern ireland', 'norfolk': 'united kingdom of great britain and northern ireland', 'north yorkshire': 'united kingdom of great britain and northern ireland', 'northamptonshire': 'united kingdom of great britain and northern ireland', 'northumberland': 'united kingdom of great britain and northern ireland', 'nottinghamshire': 'united kingdom of great britain and northern ireland', 'oxfordshire': 'united kingdom of great britain and northern ireland', 'rutland': 'united kingdom of great britain and northern ireland', 'shropshire': 'united kingdom of great britain and northern ireland', 'somerset': 'united kingdom of great britain and northern ireland', 'south yorkshire': 'united kingdom of great britain and northern ireland', 'staffordshire': 'united kingdom of great britain and northern ireland', 'suffolk': 'united kingdom of great britain and northern ireland', 'surrey': 'united kingdom of great britain and northern ireland', 'tyne and wear': 'united kingdom of great britain and northern ireland', 'warwickshire': 'united kingdom of great britain and northern ireland', 'west midlands': 'united kingdom of great britain and northern ireland', 'west sussex': 'united kingdom of great britain and northern ireland', 'west yorkshire': 'united kingdom of great britain and northern ireland', 'wiltshire': 'united kingdom of great britain and northern ireland', 'worcestershire': 'united kingdom of great britain and northern ireland', 'antrim': 'united kingdom of great britain and northern ireland', 'down': 'united kingdom of great britain and northern ireland', 'fermanagh': 'united kingdom of great britain and northern ireland', 'londonderry': 'united kingdom of great britain and northern ireland', 'tyrone': 'united kingdom of great britain and northern ireland', 'aberdeen city': 'united kingdom of great britain and northern ireland', 'aberdeenshire': 'united kingdom of great britain and northern ireland', 'angus': 'united kingdom of great britain and northern ireland', 'argyll and bute': 'united kingdom of great britain and northern ireland', 'armagh': 'united kingdom of great britain and northern ireland', 'carmarthenshire': 'united kingdom of great britain and northern ireland', 'clackmannan': 'united kingdom of great britain and northern ireland', 'dumfries and galloway': 'united kingdom of great britain and northern ireland', 'east ayrshire': 'united kingdom of great britain and northern ireland', 'east dunbartonshire': 'united kingdom of great britain and northern ireland', 'east lothian': 'united kingdom of great britain and northern ireland', 'east renfrewshire': 'united kingdom of great britain and northern ireland', 'edinburgh city': 'united kingdom of great britain and northern ireland', 'falkirk': 'united kingdom of great britain and northern ireland', 'fife': 'united kingdom of great britain and northern ireland', 'glasgow': 'united kingdom of great britain and northern ireland', 'highland': 'united kingdom of great britain and northern ireland', 'inverclyde': 'united kingdom of great britain and northern ireland', 'midlothian': 'united kingdom of great britain and northern ireland', 'moray': 'united kingdom of great britain and northern ireland', 'north ayrshire': 'united kingdom of great britain and northern ireland', 'north lanarkshire': 'united kingdom of great britain and northern ireland', 'orkney': 'united kingdom of great britain and northern ireland', 'perthshire and kinross': 'united kingdom of great britain and northern ireland', 'renfrewshire': 'united kingdom of great britain and northern ireland', 'roxburghshire': 'united kingdom of great britain and northern ireland', 'shetland': 'united kingdom of great britain and northern ireland', 'south ayrshire': 'united kingdom of great britain and northern ireland', 'south lanarkshire': 'united kingdom of great britain and northern ireland', 'stirling': 'united kingdom of great britain and northern ireland', 'west dunbartonshire': 'united kingdom of great britain and northern ireland', 'west lothian': 'united kingdom of great britain and northern ireland', 'western isles': 'united kingdom of great britain and northern ireland', 'blaenau gwent': 'united kingdom of great britain and northern ireland', 'bridgend': 'united kingdom of great britain and northern ireland', 'caerphilly': 'united kingdom of great britain and northern ireland', 'cardiff': 'united kingdom of great britain and northern ireland', 'ceredigion': 'united kingdom of great britain and northern ireland', 'conwy': 'united kingdom of great britain and northern ireland', 'denbighshire': 'united kingdom of great britain and northern ireland', 'flintshire': 'united kingdom of great britain and northern ireland', 'gwynedd': 'united kingdom of great britain and northern ireland', 'isle of anglesey': 'united kingdom of great britain and northern ireland', 'merthyr tydfil': 'united kingdom of great britain and northern ireland', 'monmouthshire': 'united kingdom of great britain and northern ireland', 'neath port talbot': 'united kingdom of great britain and northern ireland', 'newport': 'united kingdom of great britain and northern ireland', 'pembrokeshire': 'united kingdom of great britain and northern ireland', 'powys': 'united kingdom of great britain and northern ireland', 'rhondda cynon taff': 'united kingdom of great britain and northern ireland', 'swansea': 'united kingdom of great britain and northern ireland', 'the vale of glamorgan': 'united kingdom of great britain and northern ireland', 'torfaen': 'united kingdom of great britain and northern ireland', 'wrexham': 'united kingdom of great britain and northern ireland', 'baden-württemberg': 'germany', 'bayern': 'germany', 'berlin': 'germany', 'brandenburg': 'germany', 'bremen': 'germany', 'hamburg': 'germany', 'hessen': 'germany', 'mecklenburg-vorpommern': 'germany', 'niedersachsen': 'germany', 'nordrhein-westfalen': 'germany', 'rheinland-pfalz': 'germany', 'saarland': 'germany', 'sachsen': 'germany', 'sachsen-anhalt': 'germany', 'schleswig-holstein': 'germany', 'thüringen': 'germany', 'drenthe': 'netherlands', 'flevoland': 'netherlands', 'friesland': 'netherlands', 'gelderland': 'netherlands', 'groningen': 'netherlands', 'limburg': 'belgium', 'noord-brabant': 'netherlands', 'noord-holland': 'netherlands', 'overijssel': 'netherlands', 'utrecht': 'netherlands', 'zuid-holland': 'netherlands', 'zeeland': 'netherlands', 'antwerpen': 'belgium', 'henegouwen': 'belgium', 'luik': 'belgium', 'luxemburg': 'belgium', 'namen': 'belgium', 'oost-vlaanderen': 'belgium', 'vlaams-brabant': 'belgium', 'waals-brabant': 'belgium', 'west-vlaanderen': 'belgium', 'hovedstaden': 'denmark', 'midtjylland': 'denmark', 'nordjylland': 'denmark', 'sjælland': 'denmark', 'syddanmark': 'denmark', 'adana': 'turkey', 'adıyaman': 'turkey', 'afyonkarahisar': 'turkey', 'ağrı': 'turkey', 'amasya': 'turkey', 'ankara': 'turkey', 'antalya': 'turkey', 'artvin': 'turkey', 'aydın': 'turkey', 'balıkesir': 'turkey', 'bilecik': 'turkey', 'bingöl': 'turkey', 'bitlis': 'turkey', 'bolu': 'turkey', 'burdur': 'turkey', 'bursa': 'turkey', 'çanakkale': 'turkey', 'çankırı': 'turkey', 'çorum': 'turkey', 'denizli': 'turkey', 'diyarbakır': 'turkey', 'edirne': 'turkey', 'elazığ': 'turkey', 'erzincan': 'turkey', 'erzurum': 'turkey', 'eskişehir': 'turkey', 'gaziantep': 'turkey', 'giresun': 'turkey', 'gümüşhane': 'turkey', 'hakkâri': 'turkey', 'hatay': 'turkey', 'isparta': 'turkey', 'mersin': 'turkey', 'istanbul': 'turkey', 'i̇zmir': 'turkey', 'kars': 'turkey', 'kastamonu': 'turkey', 'kayseri': 'turkey', 'kırklareli': 'turkey', 'kırşehir': 'turkey', 'kocaeli': 'turkey', 'konya': 'turkey', 'kütahya': 'turkey', 'malatya': 'turkey', 'manisa': 'turkey', 'kahramanmaraş': 'turkey', 'mardin': 'turkey', 'muğla': 'turkey', 'muş': 'turkey', 'nevşehir': 'turkey', 'niğde': 'turkey', 'ordu': 'turkey', 'rize': 'turkey', 'sakarya': 'turkey', 'samsun': 'turkey', 'siirt': 'turkey', 'sinop': 'turkey', 'sivas': 'turkey', 'tekirdağ': 'turkey', 'tokat': 'turkey', 'trabzon': 'turkey', 'tunceli': 'turkey', 'şanlıurfa': 'turkey', 'uşak': 'turkey', 'van': 'turkey', 'yozgat': 'turkey', 'zonguldak': 'turkey', 'aksaray': 'turkey', 'bayburt': 'turkey', 'karaman': 'turkey', 'kırıkkale': 'turkey', 'batman': 'turkey', 'şırnak': 'turkey', 'bartın': 'turkey', 'ardahan': 'turkey', 'iğdır': 'turkey', 'yalova': 'turkey', 'karabük': 'turkey', 'kilis': 'turkey', 'osmaniye': 'turkey', 'düzce': 'turkey', 'special region of aceh': 'indonesia', 'bali': 'indonesia', 'bangka–belitung islands': 'indonesia', 'banten': 'indonesia', 'bengkulu': 'indonesia', 'central java': 'indonesia', 'central kalimantan': 'indonesia', 'central sulawesi': 'indonesia', 'east java': 'indonesia', 'east kalimantan': 'indonesia', 'east nusa tenggara': 'indonesia', 'gorontalo': 'indonesia', 'jakarta special capital region': 'indonesia', 'jambi': 'indonesia', 'lampung': 'indonesia', 'maluku': 'indonesia', 'north kalimantan': 'indonesia', 'north maluku': 'indonesia', 'north sulawesi': 'indonesia', 'north sumatra': 'indonesia', 'special region of papua': 'indonesia', 'riau': 'indonesia', 'riau islands': 'indonesia', 'southeast sulawesi': 'indonesia', 'south kalimantan': 'indonesia', 'south sulawesi': 'indonesia', 'south sumatra': 'indonesia', 'west java': 'indonesia', 'west kalimantan': 'indonesia', 'west nusa tenggara': 'indonesia', 'special region of west papua': 'indonesia', 'west sulawesi': 'indonesia', 'west sumatra': 'indonesia', 'special region of yogyakarta': 'indonesia', 'irbid': 'jordan', 'ajloun': 'jordan', 'jerash': 'jordan', 'mafraq': 'jordan', 'balqa': 'jordan', 'amman': 'jordan', 'zarqa': 'jordan', 'madaba': 'jordan', 'karak': 'jordan', 'tafilah': 'jordan', \"ma'an\": 'jordan', 'aqaba': 'jordan', 'andhra pradesh': 'india', 'arunachal pradesh': 'india', 'assam': 'india', 'bihar': 'india', 'chhattisgarh': 'india', 'goa': 'india', 'gujarat': 'india', 'haryana': 'india', 'himachal pradesh': 'india', 'jammu and kashmir': 'india', 'jharkhand': 'india', 'karnataka': 'india', 'kerala': 'india', 'madhya pradesh': 'india', 'maharashtra': 'india', 'manipur': 'india', 'meghalaya': 'india', 'mizoram': 'india', 'nagaland': 'india', 'odisha': 'india', 'punjab': 'india', 'rajasthan': 'india', 'sikkim': 'india', 'tamil nadu': 'india', 'telangana': 'india', 'tripura': 'india', 'uttar pradesh': 'india', 'uttarakhand': 'india', 'west bengal': 'india', 'andaman and nicobar islands': 'india', 'chandigarh': 'india', 'dadra and nagar haveli': 'india', 'daman and diu': 'india', 'lakshadweep': 'india', 'national capital territory of delhi': 'india', 'puducherry': 'india', 'phnom penh municipality': 'cambodia', 'banteay meanchey': 'cambodia', 'battambang': 'cambodia', 'kampong cham': 'cambodia', 'kampong chhnang': 'cambodia', 'kampong speu': 'cambodia', 'kampong thom': 'cambodia', 'kampot': 'cambodia', 'kandal': 'cambodia', 'koh kong': 'cambodia', 'kep': 'cambodia', 'kratié': 'cambodia', 'mondulkiri': 'cambodia', 'oddar meanchey': 'cambodia', 'pailin': 'cambodia', 'preah sihanouk': 'cambodia', 'preah vihear': 'cambodia', 'pursat': 'cambodia', 'prey veng': 'cambodia', 'ratanakiri': 'cambodia', 'siem reap': 'cambodia', 'stung treng': 'cambodia', 'svay rieng': 'cambodia', 'takéo': 'cambodia', 'tbong khmum': 'cambodia', 'addis ababa': 'ethiopia', 'afar region': 'ethiopia', 'amhara region': 'ethiopia', 'benishangul-gumuz': 'ethiopia', 'dire dawa': 'ethiopia', 'gambela': 'ethiopia', 'harari': 'ethiopia', 'oromia': 'ethiopia', 'somali': 'ethiopia', \"southern nations, nationalities, and peoples' region\": 'ethiopia', 'tigray region': 'ethiopia', 'chachapoyas': 'peru', 'bagua': 'peru', 'bongará': 'peru', 'condorcanqui': 'peru', 'luya': 'peru', 'rodríguez de mendoza': 'peru', 'utcubamba': 'peru', 'huaraz': 'peru', 'aija': 'peru', 'antonio raymondi': 'peru', 'asunción': 'peru', 'bolognesi': 'peru', 'carhuaz': 'peru', 'carlos fermín fitzcarrald': 'peru', 'casma': 'peru', 'corongo': 'peru', 'huari': 'peru', 'huarmey': 'peru', 'huaylas': 'peru', 'mariscal luzuriaga': 'peru', 'ocros': 'peru', 'pallasca': 'peru', 'pomabamba': 'peru', 'recuay': 'peru', 'santa': 'peru', 'sihuas': 'peru', 'yungay': 'peru', 'abancay': 'peru', 'andahuaylas': 'peru', 'antabamba': 'peru', 'aymaraes': 'peru', 'cotabambas': 'peru', 'chincheros': 'peru', 'grau': 'peru', 'arequipa': 'peru', 'camaná': 'peru', 'caravelí': 'peru', 'castilla': 'peru', 'caylloma': 'peru', 'condesuyos': 'peru', 'islay': 'peru', 'la unión': 'peru', 'huamanga': 'peru', 'cangallo': 'peru', 'huanca sancos': 'peru', 'huanta': 'peru', 'la mar': 'peru', 'lucanas': 'peru', 'parinacochas': 'peru', 'páucar del sara sara': 'peru', 'sucre': 'peru', 'víctor fajardo': 'peru', 'vilcas huamán': 'peru', 'cajamarca': 'peru', 'cajabamba': 'peru', 'celendín': 'peru', 'chota': 'peru', 'contumazá': 'peru', 'cutervo': 'peru', 'hualgayoc': 'peru', 'jaén': 'spain', 'san ignacio': 'peru', 'san marcos': 'peru', 'san miguel': 'peru', 'san pablo': 'peru', 'santa cruz': 'argentina', 'callao': 'peru', 'cusco': 'peru', 'acomayo': 'peru', 'anta': 'peru', 'calca': 'peru', 'canas': 'peru', 'canchis': 'peru', 'chumbivilcas': 'peru', 'espinar': 'peru', 'la convención': 'peru', 'paruro': 'peru', 'paucartambo': 'peru', 'quispicanchi': 'peru', 'urubamba': 'peru', 'huancavelica': 'peru', 'acobamba': 'peru', 'angaraes': 'peru', 'castrovirreyna': 'peru', 'churcampa': 'peru', 'huaytará': 'peru', 'tayacaja': 'peru', 'huánuco': 'peru', 'ambo': 'peru', 'dos de mayo': 'peru', 'huacaybamba': 'peru', 'huamalíes': 'peru', 'leoncio prado': 'peru', 'marañón': 'peru', 'pachitea': 'peru', 'puerto inca': 'peru', 'lauricocha': 'peru', 'yarowilca': 'peru', 'ica': 'peru', 'chincha': 'peru', 'nazca': 'peru', 'palpa': 'peru', 'pisco': 'peru', 'huancayo': 'peru', 'concepción': 'chile', 'chanchamayo': 'peru', 'jauja': 'peru', 'junín': 'peru', 'satipo': 'peru', 'tarma': 'peru', 'yauli': 'peru', 'chupaca': 'peru', 'trujillo': 'peru', 'ascope': 'peru', 'bolívar': 'bolivia (plurinational state of)', 'chepén': 'peru', 'julcán': 'peru', 'otuzco': 'peru', 'pacasmayo': 'peru', 'pataz': 'peru', 'sánchez carrión': 'peru', 'santiago de chuco': 'peru', 'gran chimú': 'peru', 'virú': 'peru', 'chiclayo': 'peru', 'ferreñafe': 'peru', 'lambayeque': 'peru', 'lima': 'peru', 'huaura': 'peru', 'barranca': 'peru', 'cajatambo': 'peru', 'canta': 'peru', 'cañete': 'peru', 'huaral': 'peru', 'huarochirí': 'peru', 'oyón': 'peru', 'yauyos': 'peru', 'maynas': 'peru', 'alto amazonas': 'peru', 'loreto': 'peru', 'mariscal ramón castilla': 'peru', 'putumayo': 'peru', 'requena': 'peru', 'ucayali': 'peru', 'datem del marañón': 'peru', 'tambopata': 'peru', 'manú': 'peru', 'tahuamanu': 'peru', 'mariscal nieto': 'peru', 'general sánchez cerro': 'peru', 'ilo': 'peru', 'pasco': 'peru', 'daniel alcídes carrión': 'peru', 'oxapampa': 'peru', 'piura': 'peru', 'ayabaca': 'peru', 'huancabamba': 'peru', 'morropón': 'peru', 'paita': 'peru', 'sullana': 'peru', 'talara': 'peru', 'sechura': 'peru', 'puno': 'peru', 'azángaro': 'peru', 'carabaya': 'peru', 'chucuito': 'peru', 'el collao': 'peru', 'huancané': 'peru', 'lampa': 'peru', 'melgar': 'peru', 'moho': 'peru', 'san antonio de putina': 'peru', 'san román': 'peru', 'sandia': 'peru', 'yunguyo': 'peru', 'moyobamba': 'peru', 'bellavista': 'peru', 'el dorado': 'peru', 'huallaga': 'peru', 'lamas': 'peru', 'mariscal cáceres': 'peru', 'picota': 'peru', 'rioja': 'peru', 'san martín': 'peru', 'tocache': 'peru', 'tacna': 'peru', 'candarave': 'peru', 'jorge basadre': 'peru', 'tarata': 'peru', 'tumbes': 'peru', 'contralmirante villar': 'peru', 'zarumilla': 'peru', 'coronel portillo': 'peru', 'atalaya': 'peru', 'padre abad': 'peru', 'purús': 'peru', 'camagüey': 'cuba', 'ciego de ávila': 'cuba', 'cienfuegos': 'cuba', 'havana': 'cuba', 'bayamo': 'cuba', 'guantánamo': 'cuba', 'holguín': 'cuba', 'nueva gerona': 'cuba', 'artemisa': 'cuba', 'las tunas': 'cuba', 'matanzas': 'cuba', 'san josé de las lajas': 'cuba', 'pinar del río': 'cuba', 'sancti spíritus': 'cuba', 'santiago de cuba': 'cuba', 'santa clara': 'cuba', 'ciudad autónoma de buenos aires': 'argentina', 'buenos aires': 'argentina', 'catamarca': 'argentina', 'chaco': 'argentina', 'chubut': 'argentina', 'córdoba': 'spain', 'corrientes': 'argentina', 'entre ríos': 'argentina', 'formosa': 'argentina', 'jujuy': 'argentina', 'la pampa': 'argentina', 'la rioja': 'spain', 'mendoza': 'argentina', 'misiones': 'argentina', 'neuquén': 'argentina', 'río negro': 'argentina', 'salta': 'argentina', 'san juan': 'argentina', 'san luis': 'argentina', 'santa fe': 'argentina', 'santiago del estero': 'argentina', 'tierra del fuego, antártida e islas del atlántico sur': 'argentina', 'tucumán': 'argentina', 'arica': 'chile', 'parinacota': 'chile', 'iquique': 'chile', 'tamarugal': 'chile', 'antofagasta': 'chile', 'el loa': 'chile', 'tocopilla': 'chile', 'copiapó': 'chile', 'huasco': 'chile', 'chañaral': 'chile', 'elqui': 'chile', 'limarí': 'chile', 'choapa': 'chile', 'isla de pascua': 'chile', 'los andes': 'bolivia (plurinational state of)', 'marga marga': 'chile', 'petorca': 'chile', 'quillota': 'chile', 'san antonio': 'chile', 'san felipe de aconcagua': 'chile', 'valparaíso': 'chile', 'cachapoal': 'chile', 'colchagua': 'chile', 'cardenal caro': 'chile', 'talca': 'chile', 'linares': 'chile', 'curicó': 'chile', 'cauquenes': 'chile', 'ñuble': 'chile', 'biobío': 'chile', 'arauco': 'chile', 'cautin': 'chile', 'malleco': 'chile', 'valdivia': 'chile', 'ranco': 'chile', 'llanquihue': 'chile', 'osorno': 'chile', 'chiloe': 'chile', 'palena': 'chile', 'coihaique': 'chile', 'aisén': 'chile', 'general carrera': 'chile', 'capitan prat': 'chile', 'magallanes': 'chile', 'ultima esperanza': 'chile', 'tierra del fuego': 'chile', 'antártica chilena': 'chile', 'santiago': 'chile', 'cordillera': 'bolivia (plurinational state of)', 'maipo': 'chile', 'talagante': 'chile', 'melipilla': 'chile', 'chacabuco': 'chile', 'cercado': 'bolivia (plurinational state of)', 'iténez': 'bolivia (plurinational state of)', 'josé ballivián': 'bolivia (plurinational state of)', 'mamoré': 'bolivia (plurinational state of)', 'marbán': 'bolivia (plurinational state of)', 'moxos': 'bolivia (plurinational state of)', 'vaca díez': 'bolivia (plurinational state of)', 'yacuma': 'bolivia (plurinational state of)', 'azurduy': 'bolivia (plurinational state of)', 'belisario boeto': 'bolivia (plurinational state of)', 'hernando siles': 'bolivia (plurinational state of)', 'jaime zudáñez': 'bolivia (plurinational state of)', 'luis calvo': 'bolivia (plurinational state of)', 'nor cinti': 'bolivia (plurinational state of)', 'oropeza': 'bolivia (plurinational state of)', 'sud cinti': 'bolivia (plurinational state of)', 'tomina': 'bolivia (plurinational state of)', 'yamparáez': 'bolivia (plurinational state of)', 'arani': 'bolivia (plurinational state of)', 'arque': 'bolivia (plurinational state of)', 'ayopaya': 'bolivia (plurinational state of)', 'capinota': 'bolivia (plurinational state of)', 'carrasco': 'bolivia (plurinational state of)', 'chapare': 'bolivia (plurinational state of)', 'esteban arce': 'bolivia (plurinational state of)', 'germán jordán': 'bolivia (plurinational state of)', 'mizque': 'bolivia (plurinational state of)', 'campero': 'bolivia (plurinational state of)', 'punata': 'bolivia (plurinational state of)', 'quillacollo': 'bolivia (plurinational state of)', 'tapacarí': 'bolivia (plurinational state of)', 'tiraque': 'bolivia (plurinational state of)', 'abel iturralde': 'bolivia (plurinational state of)', 'aroma': 'bolivia (plurinational state of)', 'bautista saavedra': 'bolivia (plurinational state of)', 'caranavi': 'bolivia (plurinational state of)', 'eliodoro camacho': 'bolivia (plurinational state of)', 'franz tamayo': 'bolivia (plurinational state of)', 'gualberto villarroel': 'bolivia (plurinational state of)', 'ingavi': 'bolivia (plurinational state of)', 'inquisivi': 'bolivia (plurinational state of)', 'josé manuel pando': 'bolivia (plurinational state of)', 'larecaja': 'bolivia (plurinational state of)', 'loayza': 'bolivia (plurinational state of)', 'manco kapac': 'bolivia (plurinational state of)', 'muñecas': 'bolivia (plurinational state of)', 'nor yungas': 'bolivia (plurinational state of)', 'omasuyos': 'bolivia (plurinational state of)', 'pacajes': 'bolivia (plurinational state of)', 'murillo': 'bolivia (plurinational state of)', 'sud yungas': 'bolivia (plurinational state of)', 'atahuallpa': 'bolivia (plurinational state of)', 'carangas': 'bolivia (plurinational state of)', 'eduardo avaroa': 'bolivia (plurinational state of)', 'ladislao cabrera': 'bolivia (plurinational state of)', 'litoral': 'bolivia (plurinational state of)', 'nor carangas': 'bolivia (plurinational state of)', 'pantaléon dalence': 'bolivia (plurinational state of)', 'poopó': 'bolivia (plurinational state of)', 'puerto de mejillones': 'bolivia (plurinational state of)', 'sajama': 'bolivia (plurinational state of)', 'san pedro de totora': 'bolivia (plurinational state of)', 'saucarí': 'bolivia (plurinational state of)', 'sebastián pagador': 'bolivia (plurinational state of)', 'sud carangas': 'bolivia (plurinational state of)', 'tomas barrón': 'bolivia (plurinational state of)', 'abuná': 'bolivia (plurinational state of)', 'federico román': 'bolivia (plurinational state of)', 'madre de dios': 'bolivia (plurinational state of)', 'manuripi': 'bolivia (plurinational state of)', 'nicolás suárez': 'bolivia (plurinational state of)', 'alonso de ibáñez': 'bolivia (plurinational state of)', 'antonio quijarro': 'bolivia (plurinational state of)', 'bernardino bilbao': 'bolivia (plurinational state of)', 'charcas': 'bolivia (plurinational state of)', 'chayanta': 'bolivia (plurinational state of)', 'cornelio saavedra': 'bolivia (plurinational state of)', 'daniel campos': 'bolivia (plurinational state of)', 'enrique baldivieso': 'bolivia (plurinational state of)', 'josé maría linares': 'bolivia (plurinational state of)', 'modesto omiste': 'bolivia (plurinational state of)', 'nor chichas': 'bolivia (plurinational state of)', 'nor lípez': 'bolivia (plurinational state of)', 'rafael bustillo': 'bolivia (plurinational state of)', 'sur chichas': 'bolivia (plurinational state of)', 'sur lípez': 'bolivia (plurinational state of)', 'tomás frías': 'bolivia (plurinational state of)', 'andrés ibáñez': 'bolivia (plurinational state of)', 'ángel sandoval': 'bolivia (plurinational state of)', 'chiquitos': 'bolivia (plurinational state of)', 'germán busch': 'bolivia (plurinational state of)', 'guarayos': 'bolivia (plurinational state of)', 'ichilo': 'bolivia (plurinational state of)', 'ignacio warnes': 'bolivia (plurinational state of)', 'josé miguel de velasco': 'bolivia (plurinational state of)', 'manuel maría caballero': 'bolivia (plurinational state of)', 'ñuflo de chávez': 'bolivia (plurinational state of)', 'obispo santistevan': 'bolivia (plurinational state of)', 'sara': 'bolivia (plurinational state of)', 'vallegrande': 'bolivia (plurinational state of)', 'aniceto arce': 'bolivia (plurinational state of)', \"burnet o'connor\": 'bolivia (plurinational state of)', 'eustaquio méndez': 'bolivia (plurinational state of)', 'gran chaco': 'bolivia (plurinational state of)', 'josé maría avilés': 'bolivia (plurinational state of)', 'la coruña': 'spain', 'lugo': 'spain', 'vizcaya': 'spain', 'guipúzcoa': 'spain', 'huesca': 'spain', 'lérida': 'spain', 'gerona': 'spain', 'barcelona': 'spain', 'tarragona': 'spain', 'castellón': 'spain', 'valencia': 'spain', 'alicante': 'spain', 'murcia': 'spain', 'zaragoza': 'spain', 'teruel': 'spain', 'cuenca': 'spain', 'albacete': 'spain', 'almeria': 'spain', 'granada': 'spain', 'málaga': 'spain', 'tenerife': 'spain', 'cádiz': 'spain', 'sevilla': 'spain', 'huelva': 'spain', 'las palmas': 'spain', 'madrid': 'spain', 'badajoz': 'spain', 'cáceres': 'spain', 'toledo': 'spain', 'ciudad real': 'spain', 'salamanca': 'spain', 'ávila': 'spain', 'valladolid': 'spain', 'zamora': 'spain', 'álava': 'spain', 'segovia': 'spain', 'burgos': 'spain', 'pontevedra': 'spain', 'león': 'spain', 'orense': 'spain', 'palencia': 'spain', 'soria': 'spain', 'guadalajara': 'spain', 'barguna': 'bangladesh', 'barisal': 'bangladesh', 'bhola': 'bangladesh', 'jhalokati': 'bangladesh', 'patuakhali': 'bangladesh', 'pirojpur': 'bangladesh', 'bandarban': 'bangladesh', 'brahmanbaria': 'bangladesh', 'chandpur': 'bangladesh', 'chittagong': 'bangladesh', 'comilla': 'bangladesh', \"cox's bazar\": 'bangladesh', 'feni': 'bangladesh', 'khagrachhari': 'bangladesh', 'lakshmipur': 'bangladesh', 'noakhali': 'bangladesh', 'rangamati': 'bangladesh', 'dhaka': 'bangladesh', 'faridpur': 'bangladesh', 'gazipur': 'bangladesh', 'gopalganj': 'bangladesh', 'jamalpur': 'bangladesh', 'kishoreganj': 'bangladesh', 'madaripur': 'bangladesh', 'manikganj': 'bangladesh', 'munshiganj': 'bangladesh', 'mymensingh': 'bangladesh', 'narayanganj': 'bangladesh', 'narsingdi': 'bangladesh', 'netrakona': 'bangladesh', 'rajbari': 'bangladesh', 'shariatpur': 'bangladesh', 'sherpur': 'bangladesh', 'tangail': 'bangladesh', 'bagerhat': 'bangladesh', 'chuadanga': 'bangladesh', 'jessore': 'bangladesh', 'jhenaidah': 'bangladesh', 'khulna': 'bangladesh', 'kushtia': 'bangladesh', 'magura': 'bangladesh', 'meherpur': 'bangladesh', 'narail': 'bangladesh', 'satkhira': 'bangladesh', 'bogra': 'bangladesh', 'joypurhat': 'bangladesh', 'naogaon': 'bangladesh', 'natore': 'bangladesh', 'chapainawabganj': 'bangladesh', 'pabna': 'bangladesh', 'rajshahi': 'bangladesh', 'sirajganj': 'bangladesh', 'dinajpur': 'bangladesh', 'gaibandha': 'bangladesh', 'kurigram': 'bangladesh', 'lalmonirhat': 'bangladesh', 'nilphamari': 'bangladesh', 'panchagarh': 'bangladesh', 'rangpur': 'bangladesh', 'thakurgaon': 'bangladesh', 'habiganj': 'bangladesh', 'moulvibazar': 'bangladesh', 'sunamganj': 'bangladesh', 'sylhet': 'bangladesh', 'azad kashmir': 'pakistan', 'bahawalpur': 'pakistan', 'bannu': 'pakistan', 'dera ghazi khan': 'pakistan', 'dera ismail khan': 'pakistan', 'faisalabad': 'pakistan', 'f.a.t.a.': 'pakistan', 'gujranwala': 'pakistan', 'hazara': 'pakistan', 'hyderabad': 'pakistan', 'islamabad': 'pakistan', 'kalat': 'pakistan', 'karachi': 'pakistan', 'kohat': 'pakistan', 'lahore': 'pakistan', 'larkana': 'pakistan', 'makran': 'pakistan', 'malakand': 'pakistan', 'mardan': 'pakistan', 'mirpur khas': 'pakistan', 'multan': 'pakistan', 'nasirabad': 'pakistan', 'northern areas': 'pakistan', 'peshawar': 'pakistan', 'quetta': 'pakistan', 'rawalpindi': 'pakistan', 'sargodha': 'pakistan', 'sahiwal': 'pakistan', 'sibi': 'pakistan', 'sukkur': 'pakistan', 'zhob': 'pakistan', 'abia': 'nigeria', 'abuja': 'nigeria', 'adamawa': 'nigeria', 'akwa ibom': 'nigeria', 'anambra': 'nigeria', 'bauchi': 'nigeria', 'bayelsa': 'nigeria', 'benue': 'nigeria', 'borno': 'nigeria', 'cross river': 'nigeria', 'delta': 'nigeria', 'ebonyi': 'nigeria', 'edo': 'nigeria', 'ekiti': 'nigeria', 'enugu': 'nigeria', 'gombe': 'nigeria', 'imo': 'nigeria', 'jigawa': 'nigeria', 'kaduna': 'nigeria', 'kano': 'nigeria', 'katsina': 'nigeria', 'kebbi': 'nigeria', 'kogi': 'nigeria', 'kwara': 'nigeria', 'lagos': 'nigeria', 'nasarawa': 'nigeria', 'niger': 'nigeria', 'ogun': 'nigeria', 'ondo': 'nigeria', 'osun': 'nigeria', 'oyo': 'nigeria', 'plateau': 'nigeria', 'rivers': 'nigeria', 'sokoto': 'nigeria', 'taraba': 'nigeria', 'yobe': 'nigeria', 'zamfara': 'nigeria', 'aichi': 'japan', 'akita': 'japan', 'aomori': 'japan', 'chiba': 'japan', 'ehime': 'japan', 'fukui': 'japan', 'fukuoka': 'japan', 'fukushima': 'japan', 'gifu': 'japan', 'gunma': 'japan', 'hiroshima': 'japan', 'hokkaidō': 'japan', 'hyōgo': 'japan', 'ibaraki': 'japan', 'ishikawa': 'japan', 'iwate': 'japan', 'kagawa': 'japan', 'kagoshima': 'japan', 'kanagawa': 'japan', 'kōchi': 'japan', 'kumamoto': 'japan', 'kyōto': 'japan', 'mie': 'japan', 'miyagi': 'japan', 'miyazaki': 'japan', 'nagano': 'japan', 'nagasaki': 'japan', 'nara': 'japan', 'niigata': 'japan', 'ōita': 'japan', 'okayama': 'japan', 'okinawa': 'japan', 'ōsaka': 'japan', 'saga': 'japan', 'saitama': 'japan', 'shiga': 'japan', 'shimane': 'japan', 'shizuoka': 'japan', 'tochigi': 'japan', 'tokushima': 'japan', 'tōkyō': 'japan', 'tottori': 'japan', 'toyama': 'japan', 'wakayama': 'japan', 'yamagata': 'japan', 'yamaguchi': 'japan', 'yamanashi': 'japan', 'burgenland': 'austria', 'kärnten': 'austria', 'niederösterreich': 'austria', 'oberösterreich': 'austria', 'salzburg': 'austria', 'steiermark': 'austria', 'tirol': 'austria', 'vorarlberg': 'austria', 'wien': 'austria', 'acre': 'brazil', 'alagoas': 'brazil', 'amapá': 'brazil', 'amazonas': 'brazil', 'bahia': 'brazil', 'ceará': 'brazil', 'distrito federal': 'brazil', 'espírito santo': 'brazil', 'goiás': 'brazil', 'maranhão': 'brazil', 'mato grosso': 'brazil', 'mato grosso do sul': 'brazil', 'minas gerais': 'brazil', 'pará': 'brazil', 'paraíba': 'brazil', 'paraná': 'brazil', 'pernambuco': 'brazil', 'piauí': 'brazil', 'rio de janeiro': 'brazil', 'rio grande do norte': 'brazil', 'rio grande do sul': 'brazil', 'rondônia': 'brazil', 'roraima': 'brazil', 'santa catarina': 'brazil', 'são paulo': 'brazil', 'sergipe': 'brazil', 'tocantins': 'brazil', 'abra': 'philippines', 'agusan del norte': 'philippines', 'agusan del sur': 'philippines', 'aklan': 'philippines', 'albay': 'philippines', 'antique': 'philippines', 'apayao': 'philippines', 'aurora': 'philippines', 'basilan': 'philippines', 'bataan': 'philippines', 'batanes': 'philippines', 'batangas': 'philippines', 'benguet': 'philippines', 'biliran': 'philippines', 'bohol': 'philippines', 'bukidnon': 'philippines', 'bulacan': 'philippines', 'cagayan': 'philippines', 'camarines norte': 'philippines', 'camarines sur': 'philippines', 'camiguin': 'philippines', 'capiz': 'philippines', 'catanduanes': 'philippines', 'cavite': 'philippines', 'cebu': 'philippines', 'compostela valley': 'philippines', 'cotabato': 'philippines', 'davao del norte': 'philippines', 'davao del sur': 'philippines', 'davao occidental': 'philippines', 'davao oriental': 'philippines', 'dinagat islands': 'philippines', 'eastern samar': 'philippines', 'guimaras': 'philippines', 'ifugao': 'philippines', 'ilocos norte': 'philippines', 'ilocos sur': 'philippines', 'iloilo': 'philippines', 'isabela': 'philippines', 'kalinga': 'philippines', 'la union': 'philippines', 'laguna': 'philippines', 'lanao del norte': 'philippines', 'lanao del sur': 'philippines', 'leyte': 'philippines', 'maguindanao': 'philippines', 'marinduque': 'philippines', 'masbate': 'philippines', 'misamis occidental': 'philippines', 'misamis oriental': 'philippines', 'mountain province': 'philippines', 'negros occidental': 'philippines', 'negros oriental': 'philippines', 'northern samar': 'philippines', 'nueva ecija': 'philippines', 'nueva vizcaya': 'philippines', 'occidental mindoro': 'philippines', 'oriental mindoro': 'philippines', 'palawan': 'philippines', 'pampanga': 'philippines', 'pangasinan': 'philippines', 'quezon': 'philippines', 'quirino': 'philippines', 'rizal': 'philippines', 'romblon': 'philippines', 'samar': 'philippines', 'sarangani': 'philippines', 'siquijor': 'philippines', 'sorsogon': 'philippines', 'south cotabato': 'philippines', 'southern leyte': 'philippines', 'sultan kudarat': 'philippines', 'sulu': 'philippines', 'surigao del norte': 'philippines', 'surigao del sur': 'philippines', 'tarlac': 'philippines', 'tawi-tawi': 'philippines', 'zambales': 'philippines', 'zamboanga del norte': 'philippines', 'zamboanga del sur': 'philippines', 'zamboanga sibugay': 'philippines', 'metro manila': 'philippines', 'hà nội': 'viet nam', 'hà giang': 'viet nam', 'cao bằng': 'viet nam', 'bắc kạn': 'viet nam', 'tuyên quang': 'viet nam', 'lào cai': 'viet nam', 'điện biên': 'viet nam', 'lai châu': 'viet nam', 'sơn la': 'viet nam', 'yên bái': 'viet nam', 'hòa bình': 'viet nam', 'thái nguyên': 'viet nam', 'lạng sơn': 'viet nam', 'quảng ninh': 'viet nam', 'bắc giang': 'viet nam', 'phú thọ': 'viet nam', 'vĩnh phúc': 'viet nam', 'bắc ninh': 'viet nam', 'hải dương': 'viet nam', 'hải phòng': 'viet nam', 'hưng yên': 'viet nam', 'thái bình': 'viet nam', 'hà nam': 'viet nam', 'nam định': 'viet nam', 'ninh bình': 'viet nam', 'thanh hóa': 'viet nam', 'nghệ an': 'viet nam', 'hà tĩnh': 'viet nam', 'quảng bình': 'viet nam', 'quảng trị': 'viet nam', 'thừa thiên–huế': 'viet nam', 'đà nẵng': 'viet nam', 'quảng nam': 'viet nam', 'quảng ngãi': 'viet nam', 'bình định': 'viet nam', 'phú yên': 'viet nam', 'khánh hòa': 'viet nam', 'ninh thuận': 'viet nam', 'bình thuận': 'viet nam', 'kon tum': 'viet nam', 'gia lai': 'viet nam', 'đắk lắk': 'viet nam', 'đắk nông': 'viet nam', 'lâm đồng': 'viet nam', 'bình phước': 'viet nam', 'tây ninh': 'viet nam', 'bình dương': 'viet nam', 'đồng nai': 'viet nam', 'bà rịa–vũng tàu': 'viet nam', 'thành phố hồ chí minh': 'viet nam', 'long an': 'viet nam', 'tiền giang': 'viet nam', 'bến tre': 'viet nam', 'trà vinh': 'viet nam', 'vĩnh long': 'viet nam', 'đồng tháp': 'viet nam', 'an giang': 'viet nam', 'kiên giang': 'viet nam', 'cần thơ': 'viet nam', 'hậu giang': 'viet nam', 'sóc trăng': 'viet nam', 'bạc liêu': 'viet nam', 'cà mau': 'viet nam', 'san josé': 'costa rica', 'alajuela': 'costa rica', 'cartago': 'costa rica', 'heredia': 'costa rica', 'guanacaste': 'costa rica', 'puntarenas': 'costa rica', 'limón': 'costa rica', 'auckland': 'new zealand', 'new plymouth': 'new zealand', \"hawke's bay\": 'new zealand', 'wellington': 'new zealand', 'nelson': 'new zealand', 'marlborough': 'new zealand', 'westland': 'new zealand', 'canterbury': 'new zealand', 'otago': 'new zealand', 'southland': 'new zealand'}\n"
     ]
    }
   ],
   "source": [
    "print(province_to_country)"
   ]
  },
  {
   "cell_type": "code",
   "execution_count": 19,
   "metadata": {
    "scrolled": true
   },
   "outputs": [
    {
     "name": "stdout",
     "output_type": "stream",
     "text": [
      "<class 'str'>\n"
     ]
    }
   ],
   "source": [
    "print(type(df.loc[2,'text']))\n",
    "\n",
    "df['countries'] = df['text'].apply(lambda x: match_countries(x))\n",
    "df['countries'] = df['countries'].apply(lambda x: fill_na(x))"
   ]
  },
  {
   "cell_type": "code",
   "execution_count": 20,
   "metadata": {},
   "outputs": [
    {
     "data": {
      "text/html": [
       "<div>\n",
       "<style scoped>\n",
       "    .dataframe tbody tr th:only-of-type {\n",
       "        vertical-align: middle;\n",
       "    }\n",
       "\n",
       "    .dataframe tbody tr th {\n",
       "        vertical-align: top;\n",
       "    }\n",
       "\n",
       "    .dataframe thead th {\n",
       "        text-align: right;\n",
       "    }\n",
       "</style>\n",
       "<table border=\"1\" class=\"dataframe\">\n",
       "  <thead>\n",
       "    <tr style=\"text-align: right;\">\n",
       "      <th></th>\n",
       "      <th>original_text</th>\n",
       "      <th>text</th>\n",
       "      <th>tokenized_text</th>\n",
       "      <th>no_stopwords_tokenized_text</th>\n",
       "      <th>no_stopwords_text</th>\n",
       "      <th>tdm</th>\n",
       "      <th>countries</th>\n",
       "    </tr>\n",
       "  </thead>\n",
       "  <tbody>\n",
       "    <tr>\n",
       "      <td>0</td>\n",
       "      <td>FRACTURING AND SUBSIDENCE OF THE LAND SURFACE ...</td>\n",
       "      <td>fracturing and subsidence of the land surface ...</td>\n",
       "      <td>['fracturing', 'and', 'subsidence', 'of', 'the...</td>\n",
       "      <td>['fracturing', 'subsidence', 'land', 'surface'...</td>\n",
       "      <td>fracturing subsidence land surface caused with...</td>\n",
       "      <td>amount  aquifers  area  artesian  bench  bo...</td>\n",
       "      <td>NA</td>\n",
       "    </tr>\n",
       "    <tr>\n",
       "      <td>1</td>\n",
       "      <td>An analysis of instabilities caused by salinit...</td>\n",
       "      <td>an analysis of instabilities caused by salinit...</td>\n",
       "      <td>['an', 'analysis', 'of', 'instabilities', 'cau...</td>\n",
       "      <td>['analysis', 'instabilities', 'caused', 'salin...</td>\n",
       "      <td>analysis instabilities caused salinity gradien...</td>\n",
       "      <td>always  amplitude  analyse  analysis  aquif...</td>\n",
       "      <td>NA</td>\n",
       "    </tr>\n",
       "    <tr>\n",
       "      <td>2</td>\n",
       "      <td>Pollution of the Rhine and water supply DutchA...</td>\n",
       "      <td>pollution of the rhine and water supply dutcha...</td>\n",
       "      <td>['pollution', 'of', 'the', 'rhine', 'and', 'wa...</td>\n",
       "      <td>['pollution', 'rhine', 'water', 'supply', 'dut...</td>\n",
       "      <td>pollution rhine water supply dutcha water supp...</td>\n",
       "      <td>activities  almost  approximately  article ...</td>\n",
       "      <td>[united kingdom of great britain and northern ...</td>\n",
       "    </tr>\n",
       "    <tr>\n",
       "      <td>3</td>\n",
       "      <td>DEVELOPMENT AND IN PLACE LEACHING OF MOUNTAIN ...</td>\n",
       "      <td>development and in place leaching of mountain ...</td>\n",
       "      <td>['development', 'and', 'in', 'place', 'leachin...</td>\n",
       "      <td>['development', 'place', 'leaching', 'mountain...</td>\n",
       "      <td>development place leaching mountain city chalc...</td>\n",
       "      <td>aid  analyzed  annualized  approximately  b...</td>\n",
       "      <td>[united states of america]</td>\n",
       "    </tr>\n",
       "    <tr>\n",
       "      <td>4</td>\n",
       "      <td>The study of groundwater movement in boreholes...</td>\n",
       "      <td>the study of groundwater movement in boreholes...</td>\n",
       "      <td>['the', 'study', 'of', 'groundwater', 'movemen...</td>\n",
       "      <td>['study', 'groundwater', 'movement', 'borehole...</td>\n",
       "      <td>study groundwater movement boreholes performed...</td>\n",
       "      <td>among  aquifers  authors  avoiding  based  ...</td>\n",
       "      <td>[spain]</td>\n",
       "    </tr>\n",
       "  </tbody>\n",
       "</table>\n",
       "</div>"
      ],
      "text/plain": [
       "                                       original_text  \\\n",
       "0  FRACTURING AND SUBSIDENCE OF THE LAND SURFACE ...   \n",
       "1  An analysis of instabilities caused by salinit...   \n",
       "2  Pollution of the Rhine and water supply DutchA...   \n",
       "3  DEVELOPMENT AND IN PLACE LEACHING OF MOUNTAIN ...   \n",
       "4  The study of groundwater movement in boreholes...   \n",
       "\n",
       "                                                text  \\\n",
       "0  fracturing and subsidence of the land surface ...   \n",
       "1  an analysis of instabilities caused by salinit...   \n",
       "2  pollution of the rhine and water supply dutcha...   \n",
       "3  development and in place leaching of mountain ...   \n",
       "4  the study of groundwater movement in boreholes...   \n",
       "\n",
       "                                      tokenized_text  \\\n",
       "0  ['fracturing', 'and', 'subsidence', 'of', 'the...   \n",
       "1  ['an', 'analysis', 'of', 'instabilities', 'cau...   \n",
       "2  ['pollution', 'of', 'the', 'rhine', 'and', 'wa...   \n",
       "3  ['development', 'and', 'in', 'place', 'leachin...   \n",
       "4  ['the', 'study', 'of', 'groundwater', 'movemen...   \n",
       "\n",
       "                         no_stopwords_tokenized_text  \\\n",
       "0  ['fracturing', 'subsidence', 'land', 'surface'...   \n",
       "1  ['analysis', 'instabilities', 'caused', 'salin...   \n",
       "2  ['pollution', 'rhine', 'water', 'supply', 'dut...   \n",
       "3  ['development', 'place', 'leaching', 'mountain...   \n",
       "4  ['study', 'groundwater', 'movement', 'borehole...   \n",
       "\n",
       "                                   no_stopwords_text  \\\n",
       "0  fracturing subsidence land surface caused with...   \n",
       "1  analysis instabilities caused salinity gradien...   \n",
       "2  pollution rhine water supply dutcha water supp...   \n",
       "3  development place leaching mountain city chalc...   \n",
       "4  study groundwater movement boreholes performed...   \n",
       "\n",
       "                                                 tdm  \\\n",
       "0     amount  aquifers  area  artesian  bench  bo...   \n",
       "1     always  amplitude  analyse  analysis  aquif...   \n",
       "2     activities  almost  approximately  article ...   \n",
       "3     aid  analyzed  annualized  approximately  b...   \n",
       "4     among  aquifers  authors  avoiding  based  ...   \n",
       "\n",
       "                                           countries  \n",
       "0                                                 NA  \n",
       "1                                                 NA  \n",
       "2  [united kingdom of great britain and northern ...  \n",
       "3                         [united states of america]  \n",
       "4                                            [spain]  "
      ]
     },
     "metadata": {},
     "output_type": "display_data"
    }
   ],
   "source": [
    "display(df.head())\n"
   ]
  },
  {
   "cell_type": "markdown",
   "metadata": {},
   "source": [
    "### check what  % of values in the \"countries\" column have been filled"
   ]
  },
  {
   "cell_type": "code",
   "execution_count": 21,
   "metadata": {},
   "outputs": [
    {
     "name": "stdout",
     "output_type": "stream",
     "text": [
      "65434\n",
      "65434\n",
      "1.0\n"
     ]
    }
   ],
   "source": [
    "country_list = df['countries'].tolist()\n",
    "count = 0 \n",
    "for country in country_list:\n",
    "    if len(country) > 0:\n",
    "        count +=1\n",
    "print(count)\n",
    "print(len(df.index))\n",
    "print(count/len(df.index))\n",
    "        "
   ]
  },
  {
   "cell_type": "code",
   "execution_count": 22,
   "metadata": {},
   "outputs": [
    {
     "name": "stdout",
     "output_type": "stream",
     "text": [
      "['British Indian Ocean Territory', 'China', 'United States', 'Russia']\n"
     ]
    }
   ],
   "source": [
    "print(geograpy_countries(\"I like China and India\"))"
   ]
  },
  {
   "cell_type": "code",
   "execution_count": 23,
   "metadata": {},
   "outputs": [
    {
     "data": {
      "text/html": [
       "<div>\n",
       "<style scoped>\n",
       "    .dataframe tbody tr th:only-of-type {\n",
       "        vertical-align: middle;\n",
       "    }\n",
       "\n",
       "    .dataframe tbody tr th {\n",
       "        vertical-align: top;\n",
       "    }\n",
       "\n",
       "    .dataframe thead th {\n",
       "        text-align: right;\n",
       "    }\n",
       "</style>\n",
       "<table border=\"1\" class=\"dataframe\">\n",
       "  <thead>\n",
       "    <tr style=\"text-align: right;\">\n",
       "      <th></th>\n",
       "      <th>original_text</th>\n",
       "      <th>text</th>\n",
       "      <th>tokenized_text</th>\n",
       "      <th>no_stopwords_tokenized_text</th>\n",
       "      <th>no_stopwords_text</th>\n",
       "      <th>tdm</th>\n",
       "      <th>countries</th>\n",
       "    </tr>\n",
       "  </thead>\n",
       "  <tbody>\n",
       "    <tr>\n",
       "      <td>0</td>\n",
       "      <td>FRACTURING AND SUBSIDENCE OF THE LAND SURFACE ...</td>\n",
       "      <td>fracturing and subsidence of the land surface ...</td>\n",
       "      <td>['fracturing', 'and', 'subsidence', 'of', 'the...</td>\n",
       "      <td>['fracturing', 'subsidence', 'land', 'surface'...</td>\n",
       "      <td>fracturing subsidence land surface caused with...</td>\n",
       "      <td>amount  aquifers  area  artesian  bench  bo...</td>\n",
       "      <td>NA</td>\n",
       "    </tr>\n",
       "    <tr>\n",
       "      <td>1</td>\n",
       "      <td>An analysis of instabilities caused by salinit...</td>\n",
       "      <td>an analysis of instabilities caused by salinit...</td>\n",
       "      <td>['an', 'analysis', 'of', 'instabilities', 'cau...</td>\n",
       "      <td>['analysis', 'instabilities', 'caused', 'salin...</td>\n",
       "      <td>analysis instabilities caused salinity gradien...</td>\n",
       "      <td>always  amplitude  analyse  analysis  aquif...</td>\n",
       "      <td>NA</td>\n",
       "    </tr>\n",
       "    <tr>\n",
       "      <td>2</td>\n",
       "      <td>Pollution of the Rhine and water supply DutchA...</td>\n",
       "      <td>pollution of the rhine and water supply dutcha...</td>\n",
       "      <td>['pollution', 'of', 'the', 'rhine', 'and', 'wa...</td>\n",
       "      <td>['pollution', 'rhine', 'water', 'supply', 'dut...</td>\n",
       "      <td>pollution rhine water supply dutcha water supp...</td>\n",
       "      <td>activities  almost  approximately  article ...</td>\n",
       "      <td>[united kingdom of great britain and northern ...</td>\n",
       "    </tr>\n",
       "    <tr>\n",
       "      <td>3</td>\n",
       "      <td>DEVELOPMENT AND IN PLACE LEACHING OF MOUNTAIN ...</td>\n",
       "      <td>development and in place leaching of mountain ...</td>\n",
       "      <td>['development', 'and', 'in', 'place', 'leachin...</td>\n",
       "      <td>['development', 'place', 'leaching', 'mountain...</td>\n",
       "      <td>development place leaching mountain city chalc...</td>\n",
       "      <td>aid  analyzed  annualized  approximately  b...</td>\n",
       "      <td>[united states of america]</td>\n",
       "    </tr>\n",
       "    <tr>\n",
       "      <td>4</td>\n",
       "      <td>The study of groundwater movement in boreholes...</td>\n",
       "      <td>the study of groundwater movement in boreholes...</td>\n",
       "      <td>['the', 'study', 'of', 'groundwater', 'movemen...</td>\n",
       "      <td>['study', 'groundwater', 'movement', 'borehole...</td>\n",
       "      <td>study groundwater movement boreholes performed...</td>\n",
       "      <td>among  aquifers  authors  avoiding  based  ...</td>\n",
       "      <td>[spain]</td>\n",
       "    </tr>\n",
       "  </tbody>\n",
       "</table>\n",
       "</div>"
      ],
      "text/plain": [
       "                                       original_text  \\\n",
       "0  FRACTURING AND SUBSIDENCE OF THE LAND SURFACE ...   \n",
       "1  An analysis of instabilities caused by salinit...   \n",
       "2  Pollution of the Rhine and water supply DutchA...   \n",
       "3  DEVELOPMENT AND IN PLACE LEACHING OF MOUNTAIN ...   \n",
       "4  The study of groundwater movement in boreholes...   \n",
       "\n",
       "                                                text  \\\n",
       "0  fracturing and subsidence of the land surface ...   \n",
       "1  an analysis of instabilities caused by salinit...   \n",
       "2  pollution of the rhine and water supply dutcha...   \n",
       "3  development and in place leaching of mountain ...   \n",
       "4  the study of groundwater movement in boreholes...   \n",
       "\n",
       "                                      tokenized_text  \\\n",
       "0  ['fracturing', 'and', 'subsidence', 'of', 'the...   \n",
       "1  ['an', 'analysis', 'of', 'instabilities', 'cau...   \n",
       "2  ['pollution', 'of', 'the', 'rhine', 'and', 'wa...   \n",
       "3  ['development', 'and', 'in', 'place', 'leachin...   \n",
       "4  ['the', 'study', 'of', 'groundwater', 'movemen...   \n",
       "\n",
       "                         no_stopwords_tokenized_text  \\\n",
       "0  ['fracturing', 'subsidence', 'land', 'surface'...   \n",
       "1  ['analysis', 'instabilities', 'caused', 'salin...   \n",
       "2  ['pollution', 'rhine', 'water', 'supply', 'dut...   \n",
       "3  ['development', 'place', 'leaching', 'mountain...   \n",
       "4  ['study', 'groundwater', 'movement', 'borehole...   \n",
       "\n",
       "                                   no_stopwords_text  \\\n",
       "0  fracturing subsidence land surface caused with...   \n",
       "1  analysis instabilities caused salinity gradien...   \n",
       "2  pollution rhine water supply dutcha water supp...   \n",
       "3  development place leaching mountain city chalc...   \n",
       "4  study groundwater movement boreholes performed...   \n",
       "\n",
       "                                                 tdm  \\\n",
       "0     amount  aquifers  area  artesian  bench  bo...   \n",
       "1     always  amplitude  analyse  analysis  aquif...   \n",
       "2     activities  almost  approximately  article ...   \n",
       "3     aid  analyzed  annualized  approximately  b...   \n",
       "4     among  aquifers  authors  avoiding  based  ...   \n",
       "\n",
       "                                           countries  \n",
       "0                                                 NA  \n",
       "1                                                 NA  \n",
       "2  [united kingdom of great britain and northern ...  \n",
       "3                         [united states of america]  \n",
       "4                                            [spain]  "
      ]
     },
     "metadata": {},
     "output_type": "display_data"
    }
   ],
   "source": [
    "display(df.head())"
   ]
  },
  {
   "cell_type": "code",
   "execution_count": 26,
   "metadata": {},
   "outputs": [
    {
     "name": "stdout",
     "output_type": "stream",
     "text": [
      "the study of groundwater movement in boreholes performed at the site for the future beninar dam spain using radioactive tracersin the study of sites for the construction of new dams it is necessary to know among other characteristics of the soil the following onesi ground impermeability at site to be sure of the resistance and stability of the dam ii basin impermeability for the stored waters avoiding uncontrollated losses a valuable information on this subject may be obtained through the study of waters movement at the saturated zone the method here described is based on marking the water column with a radioactive isotope and has been investigated and employed by the authors in more than  boreholes the purpose of thos e experiences was in most of the cases to know the behaviour of the groundwater aquifers as well as their recharge conditions exploitability and more importants parameters in similar manner has been successfully used at boreholes performed for the geological research of sites for future dams in order to know the soil permeability and groundwater movement at the beninar dam five boreholes of  mm diameter and  m maximum depth were investigated the time needed for the study of every borehole is a few hours depending on the velocity of the groundwaters a\n"
     ]
    }
   ],
   "source": [
    "print(df.loc[4, 'text'])"
   ]
  },
  {
   "cell_type": "code",
   "execution_count": 27,
   "metadata": {},
   "outputs": [],
   "source": [
    "df.to_csv(\"../results/abstracts_cleaned_tokenized_geo_new_oct_5.csv\",index=False)"
   ]
  },
  {
   "cell_type": "code",
   "execution_count": null,
   "metadata": {},
   "outputs": [],
   "source": [
    "    "
   ]
  }
 ],
 "metadata": {
  "kernelspec": {
   "display_name": "Python 3",
   "language": "python",
   "name": "python3"
  },
  "language_info": {
   "codemirror_mode": {
    "name": "ipython",
    "version": 3
   },
   "file_extension": ".py",
   "mimetype": "text/x-python",
   "name": "python",
   "nbconvert_exporter": "python",
   "pygments_lexer": "ipython3",
   "version": "3.7.4"
  }
 },
 "nbformat": 4,
 "nbformat_minor": 2
}
