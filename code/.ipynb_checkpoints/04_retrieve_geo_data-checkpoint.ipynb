{
 "cells": [
  {
   "cell_type": "markdown",
   "metadata": {},
   "source": [
    "### imports"
   ]
  },
  {
   "cell_type": "code",
   "execution_count": 5,
   "metadata": {},
   "outputs": [],
   "source": [
    "import pandas as pd\n",
    "import re\n",
    "import csv\n",
    "from IPython.display import display, clear_output\n",
    "import nltk \n",
    "from nltk import word_tokenize\n",
    "from nltk.corpus import stopwords\n",
    "from nltk.tokenize.treebank import TreebankWordDetokenizer\n",
    "import string\n",
    "from string import capwords\n",
    "from sklearn.feature_extraction.text import CountVectorizer\n",
    "import geograpy3\n",
    "from cliff.api import Cliff\n",
    "import json \n"
   ]
  },
  {
   "cell_type": "markdown",
   "metadata": {},
   "source": [
    "### loops through abstracts and matches checks if words are a country or a state name according to a csv file containing country and state names"
   ]
  },
  {
   "cell_type": "code",
   "execution_count": 6,
   "metadata": {},
   "outputs": [],
   "source": [
    "def match_countries(text):\n",
    "    countries_in_abstract = []\n",
    "    for word in text.split():\n",
    "        if word in countries_list and word not in countries_in_abstract:\n",
    "            countries_in_abstract.append(word)\n",
    "#         if word in abbr_country_dict and abbr_country_dict[word] not in countries_in_abstract:\n",
    "#             countries_in_abstract.append(abbr_country_dict[word])\n",
    "        if word in province_to_country and province_to_country[word] not in countries_in_abstract:\n",
    "            countries_in_abstract.append(province_to_country[word])\n",
    "        if word in demonym_dict and demonym_dict[word] not in countries_in_abstract:\n",
    "            countries_in_abstract.append(demonym_dict[word])\n",
    "    return countries_in_abstract\n"
   ]
  },
  {
   "cell_type": "markdown",
   "metadata": {},
   "source": [
    "### uses geograpy3 API to attempt to assign countries to a text input"
   ]
  },
  {
   "cell_type": "code",
   "execution_count": 7,
   "metadata": {},
   "outputs": [],
   "source": [
    "def geograpy_countries(input):\n",
    "    places = geograpy3.get_place_context(text = input)\n",
    "    return places.countries"
   ]
  },
  {
   "cell_type": "markdown",
   "metadata": {},
   "source": [
    "### fills all the \"countries\" column for abstracts that were not assigned a column with \"NA\" values"
   ]
  },
  {
   "cell_type": "code",
   "execution_count": 8,
   "metadata": {},
   "outputs": [],
   "source": [
    "def fill_na(array):\n",
    "    if(len(array) < 1):\n",
    "        return \"NA\"\n",
    "    else:\n",
    "        return array"
   ]
  },
  {
   "cell_type": "code",
   "execution_count": 9,
   "metadata": {},
   "outputs": [],
   "source": [
    "df = pd.read_csv('../results/cleaned_tokenized.csv')"
   ]
  },
  {
   "cell_type": "code",
   "execution_count": 10,
   "metadata": {},
   "outputs": [
    {
     "data": {
      "text/html": [
       "<div>\n",
       "<style scoped>\n",
       "    .dataframe tbody tr th:only-of-type {\n",
       "        vertical-align: middle;\n",
       "    }\n",
       "\n",
       "    .dataframe tbody tr th {\n",
       "        vertical-align: top;\n",
       "    }\n",
       "\n",
       "    .dataframe thead th {\n",
       "        text-align: right;\n",
       "    }\n",
       "</style>\n",
       "<table border=\"1\" class=\"dataframe\">\n",
       "  <thead>\n",
       "    <tr style=\"text-align: right;\">\n",
       "      <th></th>\n",
       "      <th>text</th>\n",
       "      <th>tokenized_text</th>\n",
       "      <th>no_stopwords_tokenized_text</th>\n",
       "      <th>no_stopwords_text</th>\n",
       "      <th>tdm</th>\n",
       "    </tr>\n",
       "  </thead>\n",
       "  <tbody>\n",
       "    <tr>\n",
       "      <td>0</td>\n",
       "      <td>fracturing and subsidence of the land surface ...</td>\n",
       "      <td>['fracturing', 'and', 'subsidence', 'of', 'the...</td>\n",
       "      <td>['fracturing', 'subsidence', 'land', 'surface'...</td>\n",
       "      <td>fracturing subsidence land surface caused with...</td>\n",
       "      <td>amount  aquifers  area  artesian  bench  bo...</td>\n",
       "    </tr>\n",
       "    <tr>\n",
       "      <td>1</td>\n",
       "      <td>an analysis of instabilities caused by salinit...</td>\n",
       "      <td>['an', 'analysis', 'of', 'instabilities', 'cau...</td>\n",
       "      <td>['analysis', 'instabilities', 'caused', 'salin...</td>\n",
       "      <td>analysis instabilities caused salinity gradien...</td>\n",
       "      <td>always  amplitude  analyse  analysis  aquif...</td>\n",
       "    </tr>\n",
       "    <tr>\n",
       "      <td>2</td>\n",
       "      <td>pollution of the rhine and water supply dutch ...</td>\n",
       "      <td>['pollution', 'of', 'the', 'rhine', 'and', 'wa...</td>\n",
       "      <td>['pollution', 'rhine', 'water', 'supply', 'dut...</td>\n",
       "      <td>pollution rhine water supply dutch water suppl...</td>\n",
       "      <td>activities  almost  approximately  article ...</td>\n",
       "    </tr>\n",
       "    <tr>\n",
       "      <td>3</td>\n",
       "      <td>development and in place leaching of mountain ...</td>\n",
       "      <td>['development', 'and', 'in', 'place', 'leachin...</td>\n",
       "      <td>['development', 'place', 'leaching', 'mountain...</td>\n",
       "      <td>development place leaching mountain city chalc...</td>\n",
       "      <td>aid  analyzed  annualized  approximately  b...</td>\n",
       "    </tr>\n",
       "    <tr>\n",
       "      <td>4</td>\n",
       "      <td>the study of groundwater movement in boreholes...</td>\n",
       "      <td>['the', 'study', 'of', 'groundwater', 'movemen...</td>\n",
       "      <td>['study', 'groundwater', 'movement', 'borehole...</td>\n",
       "      <td>study groundwater movement boreholes performed...</td>\n",
       "      <td>among  aquifers  authors  avoiding  based  ...</td>\n",
       "    </tr>\n",
       "  </tbody>\n",
       "</table>\n",
       "</div>"
      ],
      "text/plain": [
       "                                                text  \\\n",
       "0  fracturing and subsidence of the land surface ...   \n",
       "1  an analysis of instabilities caused by salinit...   \n",
       "2  pollution of the rhine and water supply dutch ...   \n",
       "3  development and in place leaching of mountain ...   \n",
       "4  the study of groundwater movement in boreholes...   \n",
       "\n",
       "                                      tokenized_text  \\\n",
       "0  ['fracturing', 'and', 'subsidence', 'of', 'the...   \n",
       "1  ['an', 'analysis', 'of', 'instabilities', 'cau...   \n",
       "2  ['pollution', 'of', 'the', 'rhine', 'and', 'wa...   \n",
       "3  ['development', 'and', 'in', 'place', 'leachin...   \n",
       "4  ['the', 'study', 'of', 'groundwater', 'movemen...   \n",
       "\n",
       "                         no_stopwords_tokenized_text  \\\n",
       "0  ['fracturing', 'subsidence', 'land', 'surface'...   \n",
       "1  ['analysis', 'instabilities', 'caused', 'salin...   \n",
       "2  ['pollution', 'rhine', 'water', 'supply', 'dut...   \n",
       "3  ['development', 'place', 'leaching', 'mountain...   \n",
       "4  ['study', 'groundwater', 'movement', 'borehole...   \n",
       "\n",
       "                                   no_stopwords_text  \\\n",
       "0  fracturing subsidence land surface caused with...   \n",
       "1  analysis instabilities caused salinity gradien...   \n",
       "2  pollution rhine water supply dutch water suppl...   \n",
       "3  development place leaching mountain city chalc...   \n",
       "4  study groundwater movement boreholes performed...   \n",
       "\n",
       "                                                 tdm  \n",
       "0     amount  aquifers  area  artesian  bench  bo...  \n",
       "1     always  amplitude  analyse  analysis  aquif...  \n",
       "2     activities  almost  approximately  article ...  \n",
       "3     aid  analyzed  annualized  approximately  b...  \n",
       "4     among  aquifers  authors  avoiding  based  ...  "
      ]
     },
     "metadata": {},
     "output_type": "display_data"
    }
   ],
   "source": [
    "display(df.head())"
   ]
  },
  {
   "cell_type": "markdown",
   "metadata": {},
   "source": [
    "### matches words in the abstract to countries by searching for country names, province names, and demonyms"
   ]
  },
  {
   "cell_type": "code",
   "execution_count": 12,
   "metadata": {},
   "outputs": [],
   "source": [
    "abbr_country_dict = {}\n",
    "with open(\"../data/iso_list_of_countries.csv\") as countries:\n",
    "    reader = csv.reader(countries, delimiter=',',quotechar= '\"',quoting= csv.QUOTE_MINIMAL)\n",
    "    for row in reader:\n",
    "        name = row[0]\n",
    "        if name == \"name\":\n",
    "            continue\n",
    "        abbr = row[1]\n",
    "        countries_list.append(name.lower())\n",
    "        abbr_country_dict[abbr] = name.lower()"
   ]
  },
  {
   "cell_type": "code",
   "execution_count": 14,
   "metadata": {},
   "outputs": [],
   "source": [
    "demonym_dict = {\"hawaiian\": \"hawaii\", \"alaskan\": \"alaska\", \"indian\": \"india\", \"chinese\": \"china\", \"american\": \"america\", \"russian\": \"russia\", \"indonesian\": \"indonesia\", \"pakistani\": \"pakistan\", \"nigerian\": \"nigeria\"}\n"
   ]
  },
  {
   "cell_type": "code",
   "execution_count": 15,
   "metadata": {},
   "outputs": [],
   "source": [
    "province_to_country = {}\n",
    "with open('../data/provinces.json') as json_file: \n",
    "        provinces = json.load(json_file) \n",
    "for p_dict in provinces:\n",
    "    if \"english\" in p_dict:\n",
    "        province_name = p_dict['english'].lower()\n",
    "    else:\n",
    "        province_name = p_dict['name'].lower()\n",
    "    province_to_country[province_name] = abbr_country_dict[p_dict['country']]\n",
    "    \n",
    "    "
   ]
  },
  {
   "cell_type": "code",
   "execution_count": 16,
   "metadata": {},
   "outputs": [],
   "source": [
    "\n",
    "df['countries'] = df['text'].apply(lambda x: match_countries(x))\n",
    "df['countries'] = df['countries'].apply(lambda x: fill_na(x))"
   ]
  },
  {
   "cell_type": "code",
   "execution_count": 17,
   "metadata": {},
   "outputs": [
    {
     "data": {
      "text/html": [
       "<div>\n",
       "<style scoped>\n",
       "    .dataframe tbody tr th:only-of-type {\n",
       "        vertical-align: middle;\n",
       "    }\n",
       "\n",
       "    .dataframe tbody tr th {\n",
       "        vertical-align: top;\n",
       "    }\n",
       "\n",
       "    .dataframe thead th {\n",
       "        text-align: right;\n",
       "    }\n",
       "</style>\n",
       "<table border=\"1\" class=\"dataframe\">\n",
       "  <thead>\n",
       "    <tr style=\"text-align: right;\">\n",
       "      <th></th>\n",
       "      <th>text</th>\n",
       "      <th>tokenized_text</th>\n",
       "      <th>no_stopwords_tokenized_text</th>\n",
       "      <th>no_stopwords_text</th>\n",
       "      <th>tdm</th>\n",
       "      <th>countries</th>\n",
       "    </tr>\n",
       "  </thead>\n",
       "  <tbody>\n",
       "    <tr>\n",
       "      <td>0</td>\n",
       "      <td>fracturing and subsidence of the land surface ...</td>\n",
       "      <td>['fracturing', 'and', 'subsidence', 'of', 'the...</td>\n",
       "      <td>['fracturing', 'subsidence', 'land', 'surface'...</td>\n",
       "      <td>fracturing subsidence land surface caused with...</td>\n",
       "      <td>amount  aquifers  area  artesian  bench  bo...</td>\n",
       "      <td>[united states of america]</td>\n",
       "    </tr>\n",
       "    <tr>\n",
       "      <td>1</td>\n",
       "      <td>an analysis of instabilities caused by salinit...</td>\n",
       "      <td>['an', 'analysis', 'of', 'instabilities', 'cau...</td>\n",
       "      <td>['analysis', 'instabilities', 'caused', 'salin...</td>\n",
       "      <td>analysis instabilities caused salinity gradien...</td>\n",
       "      <td>always  amplitude  analyse  analysis  aquif...</td>\n",
       "      <td>NA</td>\n",
       "    </tr>\n",
       "    <tr>\n",
       "      <td>2</td>\n",
       "      <td>pollution of the rhine and water supply dutch ...</td>\n",
       "      <td>['pollution', 'of', 'the', 'rhine', 'and', 'wa...</td>\n",
       "      <td>['pollution', 'rhine', 'water', 'supply', 'dut...</td>\n",
       "      <td>pollution rhine water supply dutch water suppl...</td>\n",
       "      <td>activities  almost  approximately  article ...</td>\n",
       "      <td>[united kingdom of great britain and northern ...</td>\n",
       "    </tr>\n",
       "    <tr>\n",
       "      <td>3</td>\n",
       "      <td>development and in place leaching of mountain ...</td>\n",
       "      <td>['development', 'and', 'in', 'place', 'leachin...</td>\n",
       "      <td>['development', 'place', 'leaching', 'mountain...</td>\n",
       "      <td>development place leaching mountain city chalc...</td>\n",
       "      <td>aid  analyzed  annualized  approximately  b...</td>\n",
       "      <td>[united states of america]</td>\n",
       "    </tr>\n",
       "    <tr>\n",
       "      <td>4</td>\n",
       "      <td>the study of groundwater movement in boreholes...</td>\n",
       "      <td>['the', 'study', 'of', 'groundwater', 'movemen...</td>\n",
       "      <td>['study', 'groundwater', 'movement', 'borehole...</td>\n",
       "      <td>study groundwater movement boreholes performed...</td>\n",
       "      <td>among  aquifers  authors  avoiding  based  ...</td>\n",
       "      <td>[spain]</td>\n",
       "    </tr>\n",
       "  </tbody>\n",
       "</table>\n",
       "</div>"
      ],
      "text/plain": [
       "                                                text  \\\n",
       "0  fracturing and subsidence of the land surface ...   \n",
       "1  an analysis of instabilities caused by salinit...   \n",
       "2  pollution of the rhine and water supply dutch ...   \n",
       "3  development and in place leaching of mountain ...   \n",
       "4  the study of groundwater movement in boreholes...   \n",
       "\n",
       "                                      tokenized_text  \\\n",
       "0  ['fracturing', 'and', 'subsidence', 'of', 'the...   \n",
       "1  ['an', 'analysis', 'of', 'instabilities', 'cau...   \n",
       "2  ['pollution', 'of', 'the', 'rhine', 'and', 'wa...   \n",
       "3  ['development', 'and', 'in', 'place', 'leachin...   \n",
       "4  ['the', 'study', 'of', 'groundwater', 'movemen...   \n",
       "\n",
       "                         no_stopwords_tokenized_text  \\\n",
       "0  ['fracturing', 'subsidence', 'land', 'surface'...   \n",
       "1  ['analysis', 'instabilities', 'caused', 'salin...   \n",
       "2  ['pollution', 'rhine', 'water', 'supply', 'dut...   \n",
       "3  ['development', 'place', 'leaching', 'mountain...   \n",
       "4  ['study', 'groundwater', 'movement', 'borehole...   \n",
       "\n",
       "                                   no_stopwords_text  \\\n",
       "0  fracturing subsidence land surface caused with...   \n",
       "1  analysis instabilities caused salinity gradien...   \n",
       "2  pollution rhine water supply dutch water suppl...   \n",
       "3  development place leaching mountain city chalc...   \n",
       "4  study groundwater movement boreholes performed...   \n",
       "\n",
       "                                                 tdm  \\\n",
       "0     amount  aquifers  area  artesian  bench  bo...   \n",
       "1     always  amplitude  analyse  analysis  aquif...   \n",
       "2     activities  almost  approximately  article ...   \n",
       "3     aid  analyzed  annualized  approximately  b...   \n",
       "4     among  aquifers  authors  avoiding  based  ...   \n",
       "\n",
       "                                           countries  \n",
       "0                         [united states of america]  \n",
       "1                                                 NA  \n",
       "2  [united kingdom of great britain and northern ...  \n",
       "3                         [united states of america]  \n",
       "4                                            [spain]  "
      ]
     },
     "metadata": {},
     "output_type": "display_data"
    }
   ],
   "source": [
    "display(df.head())\n"
   ]
  },
  {
   "cell_type": "markdown",
   "metadata": {},
   "source": [
    "### check what  % of values in the \"countries\" column have been filled"
   ]
  },
  {
   "cell_type": "code",
   "execution_count": 18,
   "metadata": {},
   "outputs": [
    {
     "name": "stdout",
     "output_type": "stream",
     "text": [
      "65452\n",
      "65452\n",
      "1.0\n"
     ]
    }
   ],
   "source": [
    "country_list = df['countries'].tolist()\n",
    "count = 0 \n",
    "for country in country_list:\n",
    "    if len(country) > 0:\n",
    "        count +=1\n",
    "print(count)\n",
    "print(len(df.index))\n",
    "print(count/len(df.index))\n",
    "        "
   ]
  },
  {
   "cell_type": "code",
   "execution_count": 19,
   "metadata": {},
   "outputs": [
    {
     "name": "stdout",
     "output_type": "stream",
     "text": [
      "['British Indian Ocean Territory', 'China', 'United States', 'Russia']\n"
     ]
    }
   ],
   "source": [
    "print(geograpy_countries(\"I like China and India\"))"
   ]
  },
  {
   "cell_type": "code",
   "execution_count": 20,
   "metadata": {},
   "outputs": [
    {
     "data": {
      "text/html": [
       "<div>\n",
       "<style scoped>\n",
       "    .dataframe tbody tr th:only-of-type {\n",
       "        vertical-align: middle;\n",
       "    }\n",
       "\n",
       "    .dataframe tbody tr th {\n",
       "        vertical-align: top;\n",
       "    }\n",
       "\n",
       "    .dataframe thead th {\n",
       "        text-align: right;\n",
       "    }\n",
       "</style>\n",
       "<table border=\"1\" class=\"dataframe\">\n",
       "  <thead>\n",
       "    <tr style=\"text-align: right;\">\n",
       "      <th></th>\n",
       "      <th>text</th>\n",
       "      <th>tokenized_text</th>\n",
       "      <th>no_stopwords_tokenized_text</th>\n",
       "      <th>no_stopwords_text</th>\n",
       "      <th>tdm</th>\n",
       "      <th>countries</th>\n",
       "    </tr>\n",
       "  </thead>\n",
       "  <tbody>\n",
       "    <tr>\n",
       "      <td>0</td>\n",
       "      <td>fracturing and subsidence of the land surface ...</td>\n",
       "      <td>['fracturing', 'and', 'subsidence', 'of', 'the...</td>\n",
       "      <td>['fracturing', 'subsidence', 'land', 'surface'...</td>\n",
       "      <td>fracturing subsidence land surface caused with...</td>\n",
       "      <td>amount  aquifers  area  artesian  bench  bo...</td>\n",
       "      <td>[united states of america]</td>\n",
       "    </tr>\n",
       "    <tr>\n",
       "      <td>1</td>\n",
       "      <td>an analysis of instabilities caused by salinit...</td>\n",
       "      <td>['an', 'analysis', 'of', 'instabilities', 'cau...</td>\n",
       "      <td>['analysis', 'instabilities', 'caused', 'salin...</td>\n",
       "      <td>analysis instabilities caused salinity gradien...</td>\n",
       "      <td>always  amplitude  analyse  analysis  aquif...</td>\n",
       "      <td>NA</td>\n",
       "    </tr>\n",
       "    <tr>\n",
       "      <td>2</td>\n",
       "      <td>pollution of the rhine and water supply dutch ...</td>\n",
       "      <td>['pollution', 'of', 'the', 'rhine', 'and', 'wa...</td>\n",
       "      <td>['pollution', 'rhine', 'water', 'supply', 'dut...</td>\n",
       "      <td>pollution rhine water supply dutch water suppl...</td>\n",
       "      <td>activities  almost  approximately  article ...</td>\n",
       "      <td>[united kingdom of great britain and northern ...</td>\n",
       "    </tr>\n",
       "    <tr>\n",
       "      <td>3</td>\n",
       "      <td>development and in place leaching of mountain ...</td>\n",
       "      <td>['development', 'and', 'in', 'place', 'leachin...</td>\n",
       "      <td>['development', 'place', 'leaching', 'mountain...</td>\n",
       "      <td>development place leaching mountain city chalc...</td>\n",
       "      <td>aid  analyzed  annualized  approximately  b...</td>\n",
       "      <td>[united states of america]</td>\n",
       "    </tr>\n",
       "    <tr>\n",
       "      <td>4</td>\n",
       "      <td>the study of groundwater movement in boreholes...</td>\n",
       "      <td>['the', 'study', 'of', 'groundwater', 'movemen...</td>\n",
       "      <td>['study', 'groundwater', 'movement', 'borehole...</td>\n",
       "      <td>study groundwater movement boreholes performed...</td>\n",
       "      <td>among  aquifers  authors  avoiding  based  ...</td>\n",
       "      <td>[spain]</td>\n",
       "    </tr>\n",
       "  </tbody>\n",
       "</table>\n",
       "</div>"
      ],
      "text/plain": [
       "                                                text  \\\n",
       "0  fracturing and subsidence of the land surface ...   \n",
       "1  an analysis of instabilities caused by salinit...   \n",
       "2  pollution of the rhine and water supply dutch ...   \n",
       "3  development and in place leaching of mountain ...   \n",
       "4  the study of groundwater movement in boreholes...   \n",
       "\n",
       "                                      tokenized_text  \\\n",
       "0  ['fracturing', 'and', 'subsidence', 'of', 'the...   \n",
       "1  ['an', 'analysis', 'of', 'instabilities', 'cau...   \n",
       "2  ['pollution', 'of', 'the', 'rhine', 'and', 'wa...   \n",
       "3  ['development', 'and', 'in', 'place', 'leachin...   \n",
       "4  ['the', 'study', 'of', 'groundwater', 'movemen...   \n",
       "\n",
       "                         no_stopwords_tokenized_text  \\\n",
       "0  ['fracturing', 'subsidence', 'land', 'surface'...   \n",
       "1  ['analysis', 'instabilities', 'caused', 'salin...   \n",
       "2  ['pollution', 'rhine', 'water', 'supply', 'dut...   \n",
       "3  ['development', 'place', 'leaching', 'mountain...   \n",
       "4  ['study', 'groundwater', 'movement', 'borehole...   \n",
       "\n",
       "                                   no_stopwords_text  \\\n",
       "0  fracturing subsidence land surface caused with...   \n",
       "1  analysis instabilities caused salinity gradien...   \n",
       "2  pollution rhine water supply dutch water suppl...   \n",
       "3  development place leaching mountain city chalc...   \n",
       "4  study groundwater movement boreholes performed...   \n",
       "\n",
       "                                                 tdm  \\\n",
       "0     amount  aquifers  area  artesian  bench  bo...   \n",
       "1     always  amplitude  analyse  analysis  aquif...   \n",
       "2     activities  almost  approximately  article ...   \n",
       "3     aid  analyzed  annualized  approximately  b...   \n",
       "4     among  aquifers  authors  avoiding  based  ...   \n",
       "\n",
       "                                           countries  \n",
       "0                         [united states of america]  \n",
       "1                                                 NA  \n",
       "2  [united kingdom of great britain and northern ...  \n",
       "3                         [united states of america]  \n",
       "4                                            [spain]  "
      ]
     },
     "metadata": {},
     "output_type": "display_data"
    }
   ],
   "source": [
    "display(df.head())"
   ]
  },
  {
   "cell_type": "code",
   "execution_count": 23,
   "metadata": {},
   "outputs": [
    {
     "name": "stdout",
     "output_type": "stream",
     "text": [
      "the study of groundwater movement in boreholes performed at the site for the future beninar dam spain using radioactive tracers in the study of sites for the construction of new dams it is necessary to know among other characteristics of the soil the following onesi ground impermeability at site to be sure of the resistance and stability of the dam ii basin impermeability for the stored waters avoiding uncontrollated losses a valuable information on this subject may be obtained through the study of waters movement at the saturated zone the method here described is based on marking the water column with a radioactive isotope and has been investigated and employed by the authors in more than  boreholes the purpose of thos e experiences was in most of the cases to know the behaviour of the groundwater aquifers as well as their recharge conditions exploitability and more importants parameters in similar manner has been successfully used at boreholes performed for the geological research of sites for future dams in order to know the soil permeability and groundwater movement at the beninar dam five boreholes of  mm diameter and  m maximum depth were investigated the time needed for the study of every borehole is a few hours depending on the velocity of the groundwaters a\n"
     ]
    }
   ],
   "source": [
    "print(df.loc[4, 'text'])"
   ]
  },
  {
   "cell_type": "code",
   "execution_count": 24,
   "metadata": {},
   "outputs": [],
   "source": [
    "df.to_csv(\"../results/abstracts_cleaned_tokenized_geo.csv\",index=False)"
   ]
  }
 ],
 "metadata": {
  "kernelspec": {
   "display_name": "Python 3",
   "language": "python",
   "name": "python3"
  },
  "language_info": {
   "codemirror_mode": {
    "name": "ipython",
    "version": 3
   },
   "file_extension": ".py",
   "mimetype": "text/x-python",
   "name": "python",
   "nbconvert_exporter": "python",
   "pygments_lexer": "ipython3",
   "version": "3.7.4"
  }
 },
 "nbformat": 4,
 "nbformat_minor": 2
}
