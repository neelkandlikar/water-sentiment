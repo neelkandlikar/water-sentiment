{
 "cells": [
  {
   "cell_type": "code",
   "execution_count": 55,
   "metadata": {},
   "outputs": [],
   "source": [
    "import pandas as pd\n",
    "import re\n",
    "import csv\n",
    "from IPython.display import display, clear_output\n",
    "import nltk \n",
    "from nltk import word_tokenize\n",
    "from nltk.corpus import stopwords\n",
    "from nltk.tokenize.treebank import TreebankWordDetokenizer\n",
    "import string\n",
    "from string import capwords\n",
    "from sklearn.feature_extraction.text import CountVectorizer\n",
    "import json \n",
    "import glob"
   ]
  },
  {
   "cell_type": "code",
   "execution_count": 56,
   "metadata": {},
   "outputs": [
    {
     "ename": "TypeError",
     "evalue": "map() takes no keyword arguments",
     "output_type": "error",
     "traceback": [
      "\u001b[0;31m---------------------------------------------------------------------------\u001b[0m",
      "\u001b[0;31mTypeError\u001b[0m                                 Traceback (most recent call last)",
      "\u001b[0;32m<ipython-input-56-af975ff2c165>\u001b[0m in \u001b[0;36m<module>\u001b[0;34m\u001b[0m\n\u001b[1;32m      2\u001b[0m                                  \u001b[0;34m'../data/abstracts_chunk_3.csv'\u001b[0m\u001b[0;34m,\u001b[0m\u001b[0;34m'../data/abstracts_chunk_4.csv'\u001b[0m\u001b[0;34m,\u001b[0m\u001b[0;34m'../data/abstracts_chunk_5.csv'\u001b[0m\u001b[0;34m,\u001b[0m\u001b[0;34m\u001b[0m\u001b[0;34m\u001b[0m\u001b[0m\n\u001b[1;32m      3\u001b[0m                                 \u001b[0;34m'../data/abstracts_chunk_6.csv'\u001b[0m\u001b[0;34m,\u001b[0m\u001b[0;34m'../data/abstracts_chunk_7.csv'\u001b[0m\u001b[0;34m,\u001b[0m \u001b[0;34m'../data/abstracts_chunk_8.csv'\u001b[0m\u001b[0;34m,\u001b[0m\u001b[0;34m\u001b[0m\u001b[0;34m\u001b[0m\u001b[0m\n\u001b[0;32m----> 4\u001b[0;31m                                 '../data/abstracts_chunk_11.csv'], index_col=[0]), ignore_index=True, )\n\u001b[0m\u001b[1;32m      5\u001b[0m \u001b[0;34m\u001b[0m\u001b[0m\n",
      "\u001b[0;31mTypeError\u001b[0m: map() takes no keyword arguments"
     ]
    }
   ],
   "source": [
    "\n",
    "df = pd.concat(map(pd.read_csv, ['../data/abstracts_chunk_1.csv', '../data/abstracts_chunk_2.csv', \n",
    "                                 '../data/abstracts_chunk_3.csv','../data/abstracts_chunk_4.csv','../data/abstracts_chunk_5.csv',\n",
    "                                '../data/abstracts_chunk_6.csv','../data/abstracts_chunk_7.csv', '../data/abstracts_chunk_8.csv',\n",
    "                                '../data/abstracts_chunk_11.csv']), ignore_index=True, )\n",
    "\n"
   ]
  },
  {
   "cell_type": "code",
   "execution_count": null,
   "metadata": {},
   "outputs": [],
   "source": [
    "#download stopwords\n",
    "nltk.download('stopwords')\n",
    "nltk.download('punkt')"
   ]
  },
  {
   "cell_type": "code",
   "execution_count": null,
   "metadata": {},
   "outputs": [],
   "source": [
    "pd.set_option('display.max_columns', 999)\n",
    "\n",
    "#drop rows with nan abstracts\n",
    "df = df.dropna(subset=['abstracts-retrieval-response.coredata.dc:description.abstract.ce:para'])\n",
    "\n",
    "display(df.head())\n"
   ]
  },
  {
   "cell_type": "code",
   "execution_count": null,
   "metadata": {},
   "outputs": [],
   "source": [
    "print(df.loc[2, 'abstracts-retrieval-response.coredata.dc:description.abstract.ce:para'])\n",
    "print(df.loc[2,'abstracts-retrieval-response.coredata.dc:title'])\n"
   ]
  },
  {
   "cell_type": "code",
   "execution_count": null,
   "metadata": {},
   "outputs": [],
   "source": [
    "#title is 12 index\n",
    "character_vector = []\n",
    "display(df.head())\n",
    "for row in df.itertuples():\n",
    "    character_vector.append(str(row[14]) + \" \" + str(row[44]))"
   ]
  },
  {
   "cell_type": "code",
   "execution_count": null,
   "metadata": {
    "scrolled": true
   },
   "outputs": [],
   "source": [
    "for i in range(0, len(character_vector)):\n",
    "    character_vector[i] = character_vector[i].lower()\n",
    "\n",
    "abstract_df = pd.DataFrame(character_vector, columns =['text'])\n",
    "display(abstract_df.head())"
   ]
  },
  {
   "cell_type": "code",
   "execution_count": null,
   "metadata": {},
   "outputs": [],
   "source": [
    "stop_words = set(stopwords.words('english')) \n",
    "non_alphabetical = re.compile(\"[^A-Z^a-z^\\s]\")\n",
    "abstract_df['text'] = abstract_df['text'].astype(str).replace(non_alphabetical, \"\")\n",
    "abstract_df['tokenized_text'] = abstract_df['text'].apply(nltk.word_tokenize)\n",
    "abstract_df['no_stopwords_tokenized_text'] = abstract_df['tokenized_text'].apply(lambda x: [word for word in x if word not in stop_words])\n",
    "abstract_df['no_stopwords_text'] = abstract_df['no_stopwords_tokenized_text'].apply(lambda x: ' '.join(x))\n",
    "\n"
   ]
  },
  {
   "cell_type": "code",
   "execution_count": null,
   "metadata": {},
   "outputs": [],
   "source": [
    "display(abstract_df.head())"
   ]
  },
  {
   "cell_type": "code",
   "execution_count": null,
   "metadata": {},
   "outputs": [],
   "source": [
    "def getTdm(doc):\n",
    "    vec = CountVectorizer()\n",
    "    x = vec.fit_transform(doc)\n",
    "    df = pd.DataFrame(x.toarray(), columns=vec.get_feature_names())\n",
    "    return df\n",
    "\n",
    "abstract_df['tdm'] = abstract_df['no_stopwords_text'].apply(lambda x: getTdm([x]))"
   ]
  },
  {
   "cell_type": "code",
   "execution_count": null,
   "metadata": {},
   "outputs": [],
   "source": [
    "tdm_list = abstract_df['tdm'].tolist()"
   ]
  },
  {
   "cell_type": "code",
   "execution_count": null,
   "metadata": {},
   "outputs": [],
   "source": [
    "display(abstract_df.head())"
   ]
  },
  {
   "cell_type": "code",
   "execution_count": null,
   "metadata": {},
   "outputs": [],
   "source": [
    "print(abstract_df.loc[0, \"text\"])\n",
    "print(abstract_df.loc[0, \"tdm\"])"
   ]
  },
  {
   "cell_type": "code",
   "execution_count": null,
   "metadata": {},
   "outputs": [],
   "source": [
    "print(tdm_list[0])\n",
    "print(\"**********\")\n",
    "print(tdm_list[1])\n",
    "print(\"**********\")\n",
    "print(tdm_list[2])\n",
    "print(\"**********\")\n",
    "print(tdm_list[3])\n",
    "print(\"**********\")\n",
    "print(tdm_list[4])"
   ]
  },
  {
   "cell_type": "code",
   "execution_count": null,
   "metadata": {},
   "outputs": [],
   "source": [
    "display(abstract_df.head())\n"
   ]
  },
  {
   "cell_type": "code",
   "execution_count": null,
   "metadata": {},
   "outputs": [],
   "source": [
    "abstract_df.to_csv(\"../results/cleaned_tokenized.csv\",index=False)"
   ]
  }
 ],
 "metadata": {
  "kernelspec": {
   "display_name": "Python 3",
   "language": "python",
   "name": "python3"
  },
  "language_info": {
   "codemirror_mode": {
    "name": "ipython",
    "version": 3
   },
   "file_extension": ".py",
   "mimetype": "text/x-python",
   "name": "python",
   "nbconvert_exporter": "python",
   "pygments_lexer": "ipython3",
   "version": "3.7.4"
  }
 },
 "nbformat": 4,
 "nbformat_minor": 2
}
