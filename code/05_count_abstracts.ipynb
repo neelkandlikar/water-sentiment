{
 "cells": [
  {
   "cell_type": "code",
   "execution_count": 16,
   "metadata": {},
   "outputs": [],
   "source": [
    "import pandas as pd\n",
    "import csv"
   ]
  },
  {
   "cell_type": "code",
   "execution_count": 17,
   "metadata": {},
   "outputs": [],
   "source": [
    "count = 0 "
   ]
  },
  {
   "cell_type": "code",
   "execution_count": 18,
   "metadata": {
    "scrolled": true
   },
   "outputs": [
    {
     "name": "stdout",
     "output_type": "stream",
     "text": [
      "7183\n"
     ]
    }
   ],
   "source": [
    "df1 = pd.read_csv(\"../data/abstracts_chunk_1.csv\",quoting=csv.QUOTE_ALL) \n",
    "df1 = df1.dropna(subset=['abstracts-retrieval-response.coredata.dc:description.abstract.ce:para'])\n",
    "count += len(df1.index)\n",
    "print(len(df1.index))"
   ]
  },
  {
   "cell_type": "code",
   "execution_count": 19,
   "metadata": {},
   "outputs": [
    {
     "name": "stdout",
     "output_type": "stream",
     "text": [
      "7286\n"
     ]
    }
   ],
   "source": [
    "df2 = pd.read_csv(\"../data/abstracts_chunk_2.csv\",quoting=csv.QUOTE_ALL) \n",
    "df2 = df2.dropna(subset=['abstracts-retrieval-response.coredata.dc:description.abstract.ce:para'])\n",
    "count += len(df2.index)\n",
    "print(len(df2.index))"
   ]
  },
  {
   "cell_type": "code",
   "execution_count": 20,
   "metadata": {},
   "outputs": [
    {
     "name": "stdout",
     "output_type": "stream",
     "text": [
      "7284\n"
     ]
    }
   ],
   "source": [
    "df3 = pd.read_csv(\"../data/abstracts_chunk_3.csv\",quoting=csv.QUOTE_ALL) \n",
    "df3 = df3.dropna(subset=['abstracts-retrieval-response.coredata.dc:description.abstract.ce:para'])\n",
    "count += len(df3.index)\n",
    "print(len(df3.index))"
   ]
  },
  {
   "cell_type": "code",
   "execution_count": 21,
   "metadata": {},
   "outputs": [
    {
     "name": "stdout",
     "output_type": "stream",
     "text": [
      "7283\n"
     ]
    }
   ],
   "source": [
    "df4 = pd.read_csv(\"../data/abstracts_chunk_4.csv\",quoting=csv.QUOTE_ALL) \n",
    "df4 = df4.dropna(subset=['abstracts-retrieval-response.coredata.dc:description.abstract.ce:para'])\n",
    "count += len(df4.index)\n",
    "print(len(df4.index))"
   ]
  },
  {
   "cell_type": "code",
   "execution_count": 22,
   "metadata": {},
   "outputs": [
    {
     "name": "stdout",
     "output_type": "stream",
     "text": [
      "7285\n"
     ]
    }
   ],
   "source": [
    "df5 = pd.read_csv(\"../data/abstracts_chunk_5.csv\",quoting=csv.QUOTE_ALL) \n",
    "df5 = df5.dropna(subset=['abstracts-retrieval-response.coredata.dc:description.abstract.ce:para'])\n",
    "count += len(df5.index)\n",
    "print(len(df5.index))"
   ]
  },
  {
   "cell_type": "code",
   "execution_count": 23,
   "metadata": {},
   "outputs": [
    {
     "name": "stdout",
     "output_type": "stream",
     "text": [
      "7285\n"
     ]
    }
   ],
   "source": [
    "df6 = pd.read_csv(\"../data/abstracts_chunk_6.csv\",quoting=csv.QUOTE_ALL) \n",
    "df6 = df6.dropna(subset=['abstracts-retrieval-response.coredata.dc:description.abstract.ce:para'])\n",
    "count += len(df6.index)\n",
    "print(len(df6.index))"
   ]
  },
  {
   "cell_type": "code",
   "execution_count": 24,
   "metadata": {},
   "outputs": [
    {
     "name": "stdout",
     "output_type": "stream",
     "text": [
      "7284\n"
     ]
    }
   ],
   "source": [
    "df7 = pd.read_csv(\"../data/abstracts_chunk_7.csv\",quoting=csv.QUOTE_ALL) \n",
    "df7 = df7.dropna(subset=['abstracts-retrieval-response.coredata.dc:description.abstract.ce:para'])\n",
    "count += len(df7.index)\n",
    "print(len(df7.index))"
   ]
  },
  {
   "cell_type": "code",
   "execution_count": 25,
   "metadata": {},
   "outputs": [
    {
     "name": "stdout",
     "output_type": "stream",
     "text": [
      "7282\n"
     ]
    }
   ],
   "source": [
    "df8 = pd.read_csv(\"../data/abstracts_chunk_8.csv\",quoting=csv.QUOTE_ALL) \n",
    "df8 = df8.dropna(subset=['abstracts-retrieval-response.coredata.dc:description.abstract.ce:para'])\n",
    "count += len(df8.index)\n",
    "print(len(df8.index))"
   ]
  },
  {
   "cell_type": "code",
   "execution_count": 26,
   "metadata": {},
   "outputs": [
    {
     "name": "stdout",
     "output_type": "stream",
     "text": [
      "7280\n"
     ]
    }
   ],
   "source": [
    "df11 = pd.read_csv(\"../data/abstracts_chunk_11.csv\",quoting=csv.QUOTE_ALL) \n",
    "df11 = df11.dropna(subset=['abstracts-retrieval-response.coredata.dc:description.abstract.ce:para'])\n",
    "count += len(df11.index)\n",
    "print(len(df11.index))"
   ]
  },
  {
   "cell_type": "code",
   "execution_count": 27,
   "metadata": {},
   "outputs": [
    {
     "name": "stdout",
     "output_type": "stream",
     "text": [
      "65452\n"
     ]
    }
   ],
   "source": [
    "print(count)"
   ]
  }
 ],
 "metadata": {
  "kernelspec": {
   "display_name": "Python 3",
   "language": "python",
   "name": "python3"
  },
  "language_info": {
   "codemirror_mode": {
    "name": "ipython",
    "version": 3
   },
   "file_extension": ".py",
   "mimetype": "text/x-python",
   "name": "python",
   "nbconvert_exporter": "python",
   "pygments_lexer": "ipython3",
   "version": "3.7.4"
  }
 },
 "nbformat": 4,
 "nbformat_minor": 2
}
