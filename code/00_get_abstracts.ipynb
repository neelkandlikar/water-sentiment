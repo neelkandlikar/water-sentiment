{
 "cells": [
  {
   "cell_type": "code",
   "execution_count": 1,
   "metadata": {},
   "outputs": [],
   "source": [
    "import pandas as pd\n",
    "import requests\n",
    "import math\n",
    "import time\n",
    "from tqdm import tqdm\n",
    "import os\n",
    "import matplotlib.ticker as ticker\n",
    "import matplotlib.pyplot as plt\n",
    "import xmltodict as saveme\n",
    "from tqdm import tqdm_notebook"
   ]
  },
  {
   "cell_type": "code",
   "execution_count": 85,
   "metadata": {},
   "outputs": [
    {
     "data": {
      "text/plain": [
       "1988"
      ]
     },
     "execution_count": 85,
     "metadata": {},
     "output_type": "execute_result"
    }
   ],
   "source": [
    "df = pd.read_csv('/Users/corey/Documents/GitHub/WaterSentiment/data/annual_csvs/scopus_search_year_r2_1991.csv')\n",
    "len(df['eid'].unique())"
   ]
  },
  {
   "cell_type": "code",
   "execution_count": 84,
   "metadata": {},
   "outputs": [
    {
     "data": {
      "text/plain": [
       "190000.0"
      ]
     },
     "execution_count": 84,
     "metadata": {},
     "output_type": "execute_result"
    }
   ],
   "source": [
    "1.9e5"
   ]
  },
  {
   "cell_type": "code",
   "execution_count": 386,
   "metadata": {},
   "outputs": [
    {
     "name": "stdout",
     "output_type": "stream",
     "text": [
      "Master dataframe of search results imported\n"
     ]
    }
   ],
   "source": [
    "wkdir = os.path.dirname(os.getcwd())\n",
    "\n",
    "data_dir  = wkdir + '/data'\n",
    "\n",
    "search_results = pd.read_csv(data_dir+'/scopus_search_results.csv', low_memory = False)\n",
    "\n",
    "search_results['date'] = pd.to_datetime(search_results['prism:coverDate'], format='%Y-%m-%d', errors='coerce')\n",
    "\n",
    "search_results = search_results[search_results.date.notna()]\n",
    "# search_results = search_results.set_index('date')\n",
    "\n",
    "api_key = open(wkdir+'/code/keys.gitignore', \"r\").readlines()\n",
    "\n",
    "print('Master dataframe of search results imported')"
   ]
  },
  {
   "cell_type": "code",
   "execution_count": 383,
   "metadata": {},
   "outputs": [
    {
     "name": "stdout",
     "output_type": "stream",
     "text": [
      "Beginning of song to retrieve abstracts:\n"
     ]
    },
    {
     "name": "stderr",
     "output_type": "stream",
     "text": [
      "\n",
      "\n",
      "\n",
      "0it [00:00, ?it/s]\u001b[A\u001b[A\u001b[A\n",
      "\n",
      "\n",
      "1it [00:00,  2.72it/s]\u001b[A\u001b[A\u001b[A"
     ]
    },
    {
     "name": "stdout",
     "output_type": "stream",
     "text": [
      "Failed abstract retrievals : 0 \n",
      " []\n",
      "Ding, end of song!\n"
     ]
    },
    {
     "name": "stderr",
     "output_type": "stream",
     "text": [
      "\n"
     ]
    }
   ],
   "source": [
    "print('Beginning of song to retrieve abstracts:')\n",
    "\n",
    "#make an empty list to store failures\n",
    "failed_pages = []\n",
    "\n",
    "# create master dataframe with all the first article in the list\n",
    "\n",
    "idx = search_results.iloc[0]['dc:identifier'].split(':')[1]\n",
    "response = requests.get('https://api.elsevier.com/content/abstract/scopus_id/'+idx+'?view=META_ABS&apikey='+ api_key[2])\n",
    "\n",
    "abstracts = pd.json_normalize(saveme.parse(response.text))\n",
    "\n",
    "\n",
    "for i, a in tqdm(search_results[1:].iterrows()):\n",
    "    try:\n",
    "        #print(\"Working on article \" + str(i) +' of'  + str(len(search_results)))\n",
    "        #Get scupis ID:\n",
    "        idx = a['dc:identifier'].split(':')[1]\n",
    "\n",
    "        #Format URL to retrieve the abstract:\n",
    "        response = requests.get('https://api.elsevier.com/content/abstract/scopus_id/'+idx+'?view=META_ABS&apikey='+ api_key[2])\n",
    "        abstract = pd.json_normalize(saveme.parse(response.text))\n",
    "        abstracts = abstracts.append(abstract)\n",
    "    except:\n",
    "        failed_pages = failed_pages.append(idx)\n",
    "        continue\n",
    "    time.sleep(0.12)\n",
    "    \n",
    "abstracts.to_csv(wkdir+'/data/abstracts_full.csv')\n",
    "\n",
    "print('Failed abstract retrievals: ' + str(len(failed_pages)), \"\\n\", failed_pages)\n",
    "\n",
    "print(\"Ding, end of song!\")"
   ]
  },
  {
   "cell_type": "code",
   "execution_count": 396,
   "metadata": {},
   "outputs": [
    {
     "data": {
      "text/plain": [
       "'https://api.elsevier.com/content/abstract/scopus_id/84865404754?view=META_ABS&apikey=19ab7c717adf69e87207438e0624dade'"
      ]
     },
     "execution_count": 396,
     "metadata": {},
     "output_type": "execute_result"
    }
   ],
   "source": [
    "'https://api.elsevier.com/content/abstract/scopus_id/'+idx+'?view=META_ABS&apikey='+ api_key[2]\n",
    "# dates = []\n",
    "# cals = []\n",
    "\n",
    "# for t in search_results.iterrows():\n",
    "#     try:\n",
    "#         #print(t)\n",
    "#         dates.append(t[0])\n",
    "#         title = t[1][7]\n",
    "#         cals.append(\"california\" in title.lower())\n",
    "#     except:\n",
    "#         continue"
   ]
  },
  {
   "cell_type": "code",
   "execution_count": null,
   "metadata": {},
   "outputs": [],
   "source": [
    "# cali = pd.DataFrame({'dates': dates, 'calis': cals})\n",
    "# cali = cali.set_index('dates')\n",
    "\n",
    "# cali.sum()"
   ]
  },
  {
   "cell_type": "code",
   "execution_count": 384,
   "metadata": {},
   "outputs": [],
   "source": [
    "# grps = pd.DataFrame(search_results.eid.groupby(search_results.index.year).count())\n",
    "\n",
    "# grps['calis'] = yrs['calis']\n",
    "\n",
    "# ax = grps.plot(x=grps.index, kind='bar')\n",
    "\n",
    "# # Make most of the ticklabels empty so the labels don't get too crowded\n",
    "# ticklabels = ['']*len(search_results.index)\n",
    "# # Every 4th ticklable shows the month and day\n",
    "# #ticklabels[::4] = [item.strftime('%b %d') for item in search_results.index[::4]]\n",
    "# # Every 12th ticklabel includes the year\n",
    "# ticklabels[::12] = [item.strftime('%b %d\\n%Y') for item in search_results.index[::12]]\n",
    "# ax.xaxis.set_major_formatter(ticker.FixedFormatter(ticklabels))\n",
    "# ax.set_ylabel('article count')\n",
    "# ax.set_title('\"ground water\" OR groundwater OR ground-water OR aquifer')\n",
    "# plt.tight_layout()\n",
    "# plt.savefig('article_counts.png', dpi=300)"
   ]
  }
 ],
 "metadata": {
  "kernelspec": {
   "display_name": "Python 3",
   "language": "python",
   "name": "python3"
  },
  "language_info": {
   "codemirror_mode": {
    "name": "ipython",
    "version": 3
   },
   "file_extension": ".py",
   "mimetype": "text/x-python",
   "name": "python",
   "nbconvert_exporter": "python",
   "pygments_lexer": "ipython3",
   "version": "3.7.6"
  }
 },
 "nbformat": 4,
 "nbformat_minor": 4
}
